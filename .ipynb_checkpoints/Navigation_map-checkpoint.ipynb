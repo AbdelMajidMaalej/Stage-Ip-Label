{
 "cells": [
  {
   "cell_type": "code",
   "execution_count": 1,
   "id": "d4936b9a",
   "metadata": {},
   "outputs": [],
   "source": [
    "from collections import deque\n",
    "from selenium import webdriver\n",
    "from selenium.webdriver.chrome.service import Service\n",
    "from selenium.webdriver.chrome.options import Options\n",
    "from selenium.webdriver.common.by import By\n",
    "from selenium.common.exceptions import ElementNotInteractableException\n",
    "from selenium.common.exceptions import StaleElementReferenceException\n",
    "from selenium.webdriver.support.ui import WebDriverWait\n",
    "from selenium.webdriver.support import expected_conditions as EC\n",
    "from bs4 import BeautifulSoup\n",
    "import codecs\n",
    "import re\n",
    "from webdriver_manager.chrome import ChromeDriverManager\n",
    "import time"
   ]
  },
  {
   "cell_type": "code",
   "execution_count": null,
   "id": "0930ac99",
   "metadata": {},
   "outputs": [],
   "source": [
    "def get_page_elements(driver,url):\n",
    "    driver.get(url)\n",
    "    # Extract all URLs and navigation data\n",
    "    anchor_elements = driver.find_elements(By.TAG_NAME, 'a')\n",
    "    all_elements = [{\"type\":\"button\",\"element\":element,\"next\":None} for element in anchor_elements]\n",
    "    input_elements = driver.find_elements(By.CSS_SELECTOR, \"input[type='search']\")\n",
    "    all_elements.extend([{\"type\":\"input\",\"element\":element,\"next\":None} for element in input_elements])\n",
    "    return all_elements"
   ]
  },
  {
   "cell_type": "code",
   "execution_count": null,
   "id": "0f679263",
   "metadata": {},
   "outputs": [],
   "source": [
    "def get_page(tabs,url,driver): \n",
    "    if url != None and \"https://www.ip-label.fr/\" in url:\n",
    "        url = url.split('#')[0]\n",
    "        exist = False\n",
    "        for page in tabs:\n",
    "            if page[\"page\"] == url or page[\"page\"]+\"#\" == url:\n",
    "                exist = True\n",
    "        if exist:\n",
    "            return page[\"index\"]\n",
    "        else:\n",
    "            # Execute JavaScript to open a new tab.\n",
    "            script = f\"window.open('{url}', '_blank');\"\n",
    "            driver.execute_script(script)\n",
    "            index=len(tabs)\n",
    "            tabs.append({\"page\":url,\"index\":index,\"page_elements\" : []})\n",
    "            return index\n",
    "    else:\n",
    "        return None\n",
    "        \n",
    "    \n",
    "\n",
    "def open_tab(url,tabs,element,driver):\n",
    "        index = get_page(tabs,url,driver)\n",
    "        if index != None:\n",
    "            # Switch to the new tab.\n",
    "            new_tab_handle = driver.window_handles[index]\n",
    "            driver.switch_to.window(new_tab_handle)\n",
    "            element[\"next\"] = url\n",
    "                "
   ]
  },
  {
   "cell_type": "code",
   "execution_count": null,
   "id": "ecd626be",
   "metadata": {},
   "outputs": [],
   "source": [
    "def input_xpath(element):\n",
    "    tag_name = element.tag_name\n",
    "    input_class = element.get_attribute(\"class\")\n",
    "    input_id = element.get_attribute(\"id\")\n",
    "    input_name = element.get_attribute(\"name\")\n",
    "    aria_label = element.get_attribute(\"aria-label\")\n",
    "    xpath = f\"//{tag_name}[@class='{input_class}' and @id='{input_id}' and @name='{input_name}' and @aria-label='{aria_label}']\"\n",
    "\n",
    "    # Construct the XPath manually using the tag name and attributes\n",
    "    return xpath"
   ]
  },
  {
   "cell_type": "code",
   "execution_count": null,
   "id": "f41aa53d",
   "metadata": {},
   "outputs": [],
   "source": [
    "def next_element(tabs,driver,url,all_elements,element,index):\n",
    "    new_tab_handle = driver.window_handles[index]\n",
    "    driver.switch_to.window(new_tab_handle)\n",
    "    if element[\"type\"]==\"button\":\n",
    "        try:\n",
    "            url=element[\"element\"].get_attribute('href')\n",
    "            open_tab(url,tabs,element,driver)\n",
    "        except ElementNotInteractableException:\n",
    "                all_elements.remove(element)\n",
    "        except StaleElementReferenceException:\n",
    "            print(\"Button : StaleElementReferenceException\")\n",
    "    else:\n",
    "        if element[\"type\"]==\"input\":\n",
    "            try:\n",
    "                xpath = input_xpath(element[\"element\"])\n",
    "                script = f\"window.open('{driver.current_url}', '_blank');\"\n",
    "                driver.execute_script(script)\n",
    "                # Switch to the new tab\n",
    "                driver.switch_to.window(driver.window_handles[-1])\n",
    "                text_to_write = \"Hello\"\n",
    "                old_element = element\n",
    "                element = driver.find_element(By.XPATH, xpath)\n",
    "                element.send_keys(text_to_write)\n",
    "                url= driver.current_url\n",
    "                length = len(tabs)\n",
    "                if length!=get_page(tabs,url,driver):\n",
    "                    driver.close()\n",
    "            except ElementNotInteractableException:\n",
    "                all_elements.remove(old_element) \n",
    "            except StaleElementReferenceException:\n",
    "                print(\"Input : StaleElementReferenceException\")\n",
    "                \n",
    "            \n",
    "            "
   ]
  },
  {
   "cell_type": "code",
   "execution_count": null,
   "id": "d7ece903",
   "metadata": {},
   "outputs": [],
   "source": [
    "def script(url):\n",
    "    # Set up Chrome options\n",
    "    chrome_options = Options()\n",
    "    service = Service(executable_path='C:\\Program Files (x86)\\chromedriver.exe')\n",
    "    chrome_options.binary_location = 'C:\\Program Files\\Google\\Chrome\\Application\\chrome.exe'  # Specify the path to the Chrome browser executable if needed\n",
    "    chrome_options.add_argument('--headless')  # Run Chrome in headless mode\n",
    "    chrome_options.add_argument('--page-load-timeout=60')\n",
    "\n",
    "    # Set up Chrome WebDriver with the local ChromeDriver executable\n",
    "    driver = webdriver.Chrome(options=chrome_options, service=service)\n",
    "    length = 0\n",
    "    tabs = [{\"page\": url,\"index\":0,\"page_elements\" : []}]\n",
    "    \n",
    "    while length<len(tabs):\n",
    "        start_time = time.time()\n",
    "        driver.switch_to.window(driver.window_handles[length])\n",
    "        if length ==0:\n",
    "            current_url = url\n",
    "        else:\n",
    "            current_url = driver.current_url\n",
    "        all_elements = get_page_elements(driver,current_url)\n",
    "        for element in all_elements:\n",
    "            next_element(tabs,driver,current_url,all_elements,element,length)\n",
    "        tabs[length][\"page_elements\"] = all_elements\n",
    "        end_time = time.time()\n",
    "        execution_time = end_time - start_time\n",
    "        print(\"------------------------\")\n",
    "        print(current_url)\n",
    "        print(execution_time)\n",
    "        print(\"------------------------\")\n",
    "        length += 1\n",
    "    return tabs\n",
    "        \n",
    "    \n",
    "        \n",
    "    \n",
    "    \n",
    "    \n",
    "        \n",
    "    "
   ]
  },
  {
   "cell_type": "code",
   "execution_count": null,
   "id": "df77c05b",
   "metadata": {},
   "outputs": [],
   "source": [
    "tabs = script(\"https://www.ip-label.fr/\")"
   ]
  },
  {
   "cell_type": "code",
   "execution_count": null,
   "id": "4e1fbd64",
   "metadata": {},
   "outputs": [],
   "source": [
    "for page in tabs:\n",
    "    if page[\"index\"]==1:\n",
    "        driver.switch_to.window(driver.window_handles[1])\n",
    "        page\n",
    "        \n",
    "\n",
    "\n",
    "        \n"
   ]
  },
  {
   "cell_type": "code",
   "execution_count": 3,
   "id": "fb563633",
   "metadata": {},
   "outputs": [
    {
     "name": "stdout",
     "output_type": "stream",
     "text": [
      "https://www.ip-label.fr/formulaire-contact-le-test-de-charge\n",
      "[<selenium.webdriver.remote.webelement.WebElement (session=\"6b998281365b57c97fcae77142132047\", element=\"F9F78C3C4DE669EEC177560423771AF6_element_31\")>, <selenium.webdriver.remote.webelement.WebElement (session=\"6b998281365b57c97fcae77142132047\", element=\"F9F78C3C4DE669EEC177560423771AF6_element_32\")>, <selenium.webdriver.remote.webelement.WebElement (session=\"6b998281365b57c97fcae77142132047\", element=\"F9F78C3C4DE669EEC177560423771AF6_element_33\")>, <selenium.webdriver.remote.webelement.WebElement (session=\"6b998281365b57c97fcae77142132047\", element=\"F9F78C3C4DE669EEC177560423771AF6_element_34\")>, <selenium.webdriver.remote.webelement.WebElement (session=\"6b998281365b57c97fcae77142132047\", element=\"F9F78C3C4DE669EEC177560423771AF6_element_35\")>, <selenium.webdriver.remote.webelement.WebElement (session=\"6b998281365b57c97fcae77142132047\", element=\"F9F78C3C4DE669EEC177560423771AF6_element_36\")>, <selenium.webdriver.remote.webelement.WebElement (session=\"6b998281365b57c97fcae77142132047\", element=\"F9F78C3C4DE669EEC177560423771AF6_element_37\")>, <selenium.webdriver.remote.webelement.WebElement (session=\"6b998281365b57c97fcae77142132047\", element=\"F9F78C3C4DE669EEC177560423771AF6_element_38\")>, <selenium.webdriver.remote.webelement.WebElement (session=\"6b998281365b57c97fcae77142132047\", element=\"F9F78C3C4DE669EEC177560423771AF6_element_39\")>, <selenium.webdriver.remote.webelement.WebElement (session=\"6b998281365b57c97fcae77142132047\", element=\"F9F78C3C4DE669EEC177560423771AF6_element_40\")>, <selenium.webdriver.remote.webelement.WebElement (session=\"6b998281365b57c97fcae77142132047\", element=\"F9F78C3C4DE669EEC177560423771AF6_element_41\")>, <selenium.webdriver.remote.webelement.WebElement (session=\"6b998281365b57c97fcae77142132047\", element=\"F9F78C3C4DE669EEC177560423771AF6_element_42\")>, <selenium.webdriver.remote.webelement.WebElement (session=\"6b998281365b57c97fcae77142132047\", element=\"F9F78C3C4DE669EEC177560423771AF6_element_43\")>, <selenium.webdriver.remote.webelement.WebElement (session=\"6b998281365b57c97fcae77142132047\", element=\"F9F78C3C4DE669EEC177560423771AF6_element_44\")>, <selenium.webdriver.remote.webelement.WebElement (session=\"6b998281365b57c97fcae77142132047\", element=\"F9F78C3C4DE669EEC177560423771AF6_element_45\")>, <selenium.webdriver.remote.webelement.WebElement (session=\"6b998281365b57c97fcae77142132047\", element=\"F9F78C3C4DE669EEC177560423771AF6_element_46\")>, <selenium.webdriver.remote.webelement.WebElement (session=\"6b998281365b57c97fcae77142132047\", element=\"F9F78C3C4DE669EEC177560423771AF6_element_10\")>, <selenium.webdriver.remote.webelement.WebElement (session=\"6b998281365b57c97fcae77142132047\", element=\"F9F78C3C4DE669EEC177560423771AF6_element_13\")>, <selenium.webdriver.remote.webelement.WebElement (session=\"6b998281365b57c97fcae77142132047\", element=\"F9F78C3C4DE669EEC177560423771AF6_element_47\")>, <selenium.webdriver.remote.webelement.WebElement (session=\"6b998281365b57c97fcae77142132047\", element=\"F9F78C3C4DE669EEC177560423771AF6_element_48\")>, <selenium.webdriver.remote.webelement.WebElement (session=\"6b998281365b57c97fcae77142132047\", element=\"F9F78C3C4DE669EEC177560423771AF6_element_49\")>, <selenium.webdriver.remote.webelement.WebElement (session=\"6b998281365b57c97fcae77142132047\", element=\"F9F78C3C4DE669EEC177560423771AF6_element_50\")>, <selenium.webdriver.remote.webelement.WebElement (session=\"6b998281365b57c97fcae77142132047\", element=\"F9F78C3C4DE669EEC177560423771AF6_element_16\")>, <selenium.webdriver.remote.webelement.WebElement (session=\"6b998281365b57c97fcae77142132047\", element=\"F9F78C3C4DE669EEC177560423771AF6_element_51\")>, <selenium.webdriver.remote.webelement.WebElement (session=\"6b998281365b57c97fcae77142132047\", element=\"F9F78C3C4DE669EEC177560423771AF6_element_52\")>, <selenium.webdriver.remote.webelement.WebElement (session=\"6b998281365b57c97fcae77142132047\", element=\"F9F78C3C4DE669EEC177560423771AF6_element_53\")>, <selenium.webdriver.remote.webelement.WebElement (session=\"6b998281365b57c97fcae77142132047\", element=\"F9F78C3C4DE669EEC177560423771AF6_element_19\")>, <selenium.webdriver.remote.webelement.WebElement (session=\"6b998281365b57c97fcae77142132047\", element=\"F9F78C3C4DE669EEC177560423771AF6_element_22\")>, <selenium.webdriver.remote.webelement.WebElement (session=\"6b998281365b57c97fcae77142132047\", element=\"F9F78C3C4DE669EEC177560423771AF6_element_3\")>, <selenium.webdriver.remote.webelement.WebElement (session=\"6b998281365b57c97fcae77142132047\", element=\"F9F78C3C4DE669EEC177560423771AF6_element_54\")>, <selenium.webdriver.remote.webelement.WebElement (session=\"6b998281365b57c97fcae77142132047\", element=\"F9F78C3C4DE669EEC177560423771AF6_element_55\")>, <selenium.webdriver.remote.webelement.WebElement (session=\"6b998281365b57c97fcae77142132047\", element=\"F9F78C3C4DE669EEC177560423771AF6_element_56\")>, <selenium.webdriver.remote.webelement.WebElement (session=\"6b998281365b57c97fcae77142132047\", element=\"F9F78C3C4DE669EEC177560423771AF6_element_57\")>, <selenium.webdriver.remote.webelement.WebElement (session=\"6b998281365b57c97fcae77142132047\", element=\"F9F78C3C4DE669EEC177560423771AF6_element_58\")>, <selenium.webdriver.remote.webelement.WebElement (session=\"6b998281365b57c97fcae77142132047\", element=\"F9F78C3C4DE669EEC177560423771AF6_element_59\")>, <selenium.webdriver.remote.webelement.WebElement (session=\"6b998281365b57c97fcae77142132047\", element=\"F9F78C3C4DE669EEC177560423771AF6_element_60\")>, <selenium.webdriver.remote.webelement.WebElement (session=\"6b998281365b57c97fcae77142132047\", element=\"F9F78C3C4DE669EEC177560423771AF6_element_61\")>, <selenium.webdriver.remote.webelement.WebElement (session=\"6b998281365b57c97fcae77142132047\", element=\"F9F78C3C4DE669EEC177560423771AF6_element_62\")>, <selenium.webdriver.remote.webelement.WebElement (session=\"6b998281365b57c97fcae77142132047\", element=\"F9F78C3C4DE669EEC177560423771AF6_element_63\")>, <selenium.webdriver.remote.webelement.WebElement (session=\"6b998281365b57c97fcae77142132047\", element=\"F9F78C3C4DE669EEC177560423771AF6_element_64\")>, <selenium.webdriver.remote.webelement.WebElement (session=\"6b998281365b57c97fcae77142132047\", element=\"F9F78C3C4DE669EEC177560423771AF6_element_65\")>, <selenium.webdriver.remote.webelement.WebElement (session=\"6b998281365b57c97fcae77142132047\", element=\"F9F78C3C4DE669EEC177560423771AF6_element_66\")>, <selenium.webdriver.remote.webelement.WebElement (session=\"6b998281365b57c97fcae77142132047\", element=\"F9F78C3C4DE669EEC177560423771AF6_element_67\")>, <selenium.webdriver.remote.webelement.WebElement (session=\"6b998281365b57c97fcae77142132047\", element=\"F9F78C3C4DE669EEC177560423771AF6_element_68\")>, <selenium.webdriver.remote.webelement.WebElement (session=\"6b998281365b57c97fcae77142132047\", element=\"F9F78C3C4DE669EEC177560423771AF6_element_69\")>, <selenium.webdriver.remote.webelement.WebElement (session=\"6b998281365b57c97fcae77142132047\", element=\"F9F78C3C4DE669EEC177560423771AF6_element_70\")>, <selenium.webdriver.remote.webelement.WebElement (session=\"6b998281365b57c97fcae77142132047\", element=\"F9F78C3C4DE669EEC177560423771AF6_element_71\")>, <selenium.webdriver.remote.webelement.WebElement (session=\"6b998281365b57c97fcae77142132047\", element=\"F9F78C3C4DE669EEC177560423771AF6_element_72\")>, <selenium.webdriver.remote.webelement.WebElement (session=\"6b998281365b57c97fcae77142132047\", element=\"F9F78C3C4DE669EEC177560423771AF6_element_73\")>, <selenium.webdriver.remote.webelement.WebElement (session=\"6b998281365b57c97fcae77142132047\", element=\"F9F78C3C4DE669EEC177560423771AF6_element_74\")>, <selenium.webdriver.remote.webelement.WebElement (session=\"6b998281365b57c97fcae77142132047\", element=\"F9F78C3C4DE669EEC177560423771AF6_element_75\")>, <selenium.webdriver.remote.webelement.WebElement (session=\"6b998281365b57c97fcae77142132047\", element=\"F9F78C3C4DE669EEC177560423771AF6_element_76\")>, <selenium.webdriver.remote.webelement.WebElement (session=\"6b998281365b57c97fcae77142132047\", element=\"F9F78C3C4DE669EEC177560423771AF6_element_77\")>, <selenium.webdriver.remote.webelement.WebElement (session=\"6b998281365b57c97fcae77142132047\", element=\"F9F78C3C4DE669EEC177560423771AF6_element_78\")>, <selenium.webdriver.remote.webelement.WebElement (session=\"6b998281365b57c97fcae77142132047\", element=\"F9F78C3C4DE669EEC177560423771AF6_element_79\")>, <selenium.webdriver.remote.webelement.WebElement (session=\"6b998281365b57c97fcae77142132047\", element=\"F9F78C3C4DE669EEC177560423771AF6_element_80\")>, <selenium.webdriver.remote.webelement.WebElement (session=\"6b998281365b57c97fcae77142132047\", element=\"F9F78C3C4DE669EEC177560423771AF6_element_81\")>, <selenium.webdriver.remote.webelement.WebElement (session=\"6b998281365b57c97fcae77142132047\", element=\"F9F78C3C4DE669EEC177560423771AF6_element_82\")>, <selenium.webdriver.remote.webelement.WebElement (session=\"6b998281365b57c97fcae77142132047\", element=\"F9F78C3C4DE669EEC177560423771AF6_element_83\")>, <selenium.webdriver.remote.webelement.WebElement (session=\"6b998281365b57c97fcae77142132047\", element=\"F9F78C3C4DE669EEC177560423771AF6_element_84\")>, <selenium.webdriver.remote.webelement.WebElement (session=\"6b998281365b57c97fcae77142132047\", element=\"F9F78C3C4DE669EEC177560423771AF6_element_85\")>, <selenium.webdriver.remote.webelement.WebElement (session=\"6b998281365b57c97fcae77142132047\", element=\"F9F78C3C4DE669EEC177560423771AF6_element_86\")>, <selenium.webdriver.remote.webelement.WebElement (session=\"6b998281365b57c97fcae77142132047\", element=\"F9F78C3C4DE669EEC177560423771AF6_element_87\")>, <selenium.webdriver.remote.webelement.WebElement (session=\"6b998281365b57c97fcae77142132047\", element=\"F9F78C3C4DE669EEC177560423771AF6_element_88\")>, <selenium.webdriver.remote.webelement.WebElement (session=\"6b998281365b57c97fcae77142132047\", element=\"F9F78C3C4DE669EEC177560423771AF6_element_89\")>, <selenium.webdriver.remote.webelement.WebElement (session=\"6b998281365b57c97fcae77142132047\", element=\"F9F78C3C4DE669EEC177560423771AF6_element_90\")>, <selenium.webdriver.remote.webelement.WebElement (session=\"6b998281365b57c97fcae77142132047\", element=\"F9F78C3C4DE669EEC177560423771AF6_element_91\")>, <selenium.webdriver.remote.webelement.WebElement (session=\"6b998281365b57c97fcae77142132047\", element=\"F9F78C3C4DE669EEC177560423771AF6_element_92\")>, <selenium.webdriver.remote.webelement.WebElement (session=\"6b998281365b57c97fcae77142132047\", element=\"F9F78C3C4DE669EEC177560423771AF6_element_93\")>, <selenium.webdriver.remote.webelement.WebElement (session=\"6b998281365b57c97fcae77142132047\", element=\"F9F78C3C4DE669EEC177560423771AF6_element_94\")>, <selenium.webdriver.remote.webelement.WebElement (session=\"6b998281365b57c97fcae77142132047\", element=\"F9F78C3C4DE669EEC177560423771AF6_element_95\")>, <selenium.webdriver.remote.webelement.WebElement (session=\"6b998281365b57c97fcae77142132047\", element=\"F9F78C3C4DE669EEC177560423771AF6_element_96\")>, <selenium.webdriver.remote.webelement.WebElement (session=\"6b998281365b57c97fcae77142132047\", element=\"F9F78C3C4DE669EEC177560423771AF6_element_97\")>, <selenium.webdriver.remote.webelement.WebElement (session=\"6b998281365b57c97fcae77142132047\", element=\"F9F78C3C4DE669EEC177560423771AF6_element_98\")>, <selenium.webdriver.remote.webelement.WebElement (session=\"6b998281365b57c97fcae77142132047\", element=\"F9F78C3C4DE669EEC177560423771AF6_element_99\")>, <selenium.webdriver.remote.webelement.WebElement (session=\"6b998281365b57c97fcae77142132047\", element=\"F9F78C3C4DE669EEC177560423771AF6_element_100\")>, <selenium.webdriver.remote.webelement.WebElement (session=\"6b998281365b57c97fcae77142132047\", element=\"F9F78C3C4DE669EEC177560423771AF6_element_101\")>, <selenium.webdriver.remote.webelement.WebElement (session=\"6b998281365b57c97fcae77142132047\", element=\"F9F78C3C4DE669EEC177560423771AF6_element_102\")>, <selenium.webdriver.remote.webelement.WebElement (session=\"6b998281365b57c97fcae77142132047\", element=\"F9F78C3C4DE669EEC177560423771AF6_element_103\")>, <selenium.webdriver.remote.webelement.WebElement (session=\"6b998281365b57c97fcae77142132047\", element=\"F9F78C3C4DE669EEC177560423771AF6_element_104\")>, <selenium.webdriver.remote.webelement.WebElement (session=\"6b998281365b57c97fcae77142132047\", element=\"F9F78C3C4DE669EEC177560423771AF6_element_105\")>, <selenium.webdriver.remote.webelement.WebElement (session=\"6b998281365b57c97fcae77142132047\", element=\"F9F78C3C4DE669EEC177560423771AF6_element_106\")>, <selenium.webdriver.remote.webelement.WebElement (session=\"6b998281365b57c97fcae77142132047\", element=\"F9F78C3C4DE669EEC177560423771AF6_element_107\")>, <selenium.webdriver.remote.webelement.WebElement (session=\"6b998281365b57c97fcae77142132047\", element=\"F9F78C3C4DE669EEC177560423771AF6_element_108\")>, <selenium.webdriver.remote.webelement.WebElement (session=\"6b998281365b57c97fcae77142132047\", element=\"F9F78C3C4DE669EEC177560423771AF6_element_109\")>, <selenium.webdriver.remote.webelement.WebElement (session=\"6b998281365b57c97fcae77142132047\", element=\"F9F78C3C4DE669EEC177560423771AF6_element_110\")>, <selenium.webdriver.remote.webelement.WebElement (session=\"6b998281365b57c97fcae77142132047\", element=\"F9F78C3C4DE669EEC177560423771AF6_element_111\")>, <selenium.webdriver.remote.webelement.WebElement (session=\"6b998281365b57c97fcae77142132047\", element=\"F9F78C3C4DE669EEC177560423771AF6_element_112\")>, <selenium.webdriver.remote.webelement.WebElement (session=\"6b998281365b57c97fcae77142132047\", element=\"F9F78C3C4DE669EEC177560423771AF6_element_113\")>, <selenium.webdriver.remote.webelement.WebElement (session=\"6b998281365b57c97fcae77142132047\", element=\"F9F78C3C4DE669EEC177560423771AF6_element_114\")>, <selenium.webdriver.remote.webelement.WebElement (session=\"6b998281365b57c97fcae77142132047\", element=\"F9F78C3C4DE669EEC177560423771AF6_element_115\")>, <selenium.webdriver.remote.webelement.WebElement (session=\"6b998281365b57c97fcae77142132047\", element=\"F9F78C3C4DE669EEC177560423771AF6_element_116\")>, <selenium.webdriver.remote.webelement.WebElement (session=\"6b998281365b57c97fcae77142132047\", element=\"F9F78C3C4DE669EEC177560423771AF6_element_117\")>, <selenium.webdriver.remote.webelement.WebElement (session=\"6b998281365b57c97fcae77142132047\", element=\"F9F78C3C4DE669EEC177560423771AF6_element_118\")>, <selenium.webdriver.remote.webelement.WebElement (session=\"6b998281365b57c97fcae77142132047\", element=\"F9F78C3C4DE669EEC177560423771AF6_element_119\")>, <selenium.webdriver.remote.webelement.WebElement (session=\"6b998281365b57c97fcae77142132047\", element=\"F9F78C3C4DE669EEC177560423771AF6_element_120\")>, <selenium.webdriver.remote.webelement.WebElement (session=\"6b998281365b57c97fcae77142132047\", element=\"F9F78C3C4DE669EEC177560423771AF6_element_121\")>, <selenium.webdriver.remote.webelement.WebElement (session=\"6b998281365b57c97fcae77142132047\", element=\"F9F78C3C4DE669EEC177560423771AF6_element_122\")>, <selenium.webdriver.remote.webelement.WebElement (session=\"6b998281365b57c97fcae77142132047\", element=\"F9F78C3C4DE669EEC177560423771AF6_element_123\")>, <selenium.webdriver.remote.webelement.WebElement (session=\"6b998281365b57c97fcae77142132047\", element=\"F9F78C3C4DE669EEC177560423771AF6_element_124\")>, <selenium.webdriver.remote.webelement.WebElement (session=\"6b998281365b57c97fcae77142132047\", element=\"F9F78C3C4DE669EEC177560423771AF6_element_125\")>, <selenium.webdriver.remote.webelement.WebElement (session=\"6b998281365b57c97fcae77142132047\", element=\"F9F78C3C4DE669EEC177560423771AF6_element_126\")>, <selenium.webdriver.remote.webelement.WebElement (session=\"6b998281365b57c97fcae77142132047\", element=\"F9F78C3C4DE669EEC177560423771AF6_element_127\")>, <selenium.webdriver.remote.webelement.WebElement (session=\"6b998281365b57c97fcae77142132047\", element=\"F9F78C3C4DE669EEC177560423771AF6_element_128\")>]\n"
     ]
    }
   ],
   "source": [
    "def scriptt(url):\n",
    "    # Set up Chrome options\n",
    "    chrome_options = Options()\n",
    "    service = Service(executable_path='C:\\Program Files (x86)\\chromedriver.exe')\n",
    "    chrome_options.binary_location = 'C:\\Program Files\\Google\\Chrome\\Application\\chrome.exe'  # Specify the path to the Chrome browser executable if needed\n",
    "    #chrome_options.add_argument('--headless')  # Run Chrome in headless mode\n",
    "    print(url)\n",
    "    # Set up Chrome WebDriver with the local ChromeDriver executable\n",
    "    driver = webdriver.Chrome(options=chrome_options, service=service)\n",
    "    driver.get(url)\n",
    "    element = {'type': 'button', 'next': 'https://www.ip-label.fr/formulaire-contact-supervision-des-applications-metier', 'xPath': '/html[1]/body[1]/div[2]/div[1]/main[1]/div[1]/div[1]/div[1]/article[1]/div[1]/div[1]/section[1]/div[1]/div[1]/div[1]/div[3]/div[1]/div[1]/a[1]'}\n",
    "    elem = driver.find_element(By.XPATH, element[\"xPath\"])\n",
    "    \n",
    "    \n",
    "    \n",
    "scriptt('https://www.ip-label.fr/choix-action')"
   ]
  },
  {
   "cell_type": "code",
   "execution_count": null,
   "id": "d7b665c4",
   "metadata": {},
   "outputs": [],
   "source": []
  }
 ],
 "metadata": {
  "kernelspec": {
   "display_name": "Python 3 (ipykernel)",
   "language": "python",
   "name": "python3"
  },
  "language_info": {
   "codemirror_mode": {
    "name": "ipython",
    "version": 3
   },
   "file_extension": ".py",
   "mimetype": "text/x-python",
   "name": "python",
   "nbconvert_exporter": "python",
   "pygments_lexer": "ipython3",
   "version": "3.10.9"
  }
 },
 "nbformat": 4,
 "nbformat_minor": 5
}
