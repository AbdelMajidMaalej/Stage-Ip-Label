{
 "cells": [
  {
   "cell_type": "code",
   "execution_count": 1,
   "id": "d5bc7891",
   "metadata": {},
   "outputs": [],
   "source": [
    "from selenium import webdriver\n",
    "from selenium.webdriver.chrome.service import Service\n",
    "from selenium.webdriver.common.by import By\n",
    "from selenium.webdriver.support.ui import WebDriverWait\n",
    "from selenium.webdriver.support import expected_conditions as EC\n",
    "from bs4 import BeautifulSoup\n",
    "import codecs\n",
    "import re\n",
    "from webdriver_manager.chrome import ChromeDriverManager"
   ]
  },
  {
   "cell_type": "code",
   "execution_count": 2,
   "id": "3bb1c2d7",
   "metadata": {},
   "outputs": [],
   "source": [
    "driver=webdriver.Chrome(service=Service(ChromeDriverManager().install()))"
   ]
  },
  {
   "cell_type": "code",
   "execution_count": 3,
   "id": "821857b0",
   "metadata": {},
   "outputs": [
    {
     "name": "stdout",
     "output_type": "stream",
     "text": [
      "<selenium.webdriver.chrome.webdriver.WebDriver (session=\"7497fe90d00c3a6c312d507e39e8d629\")>\n"
     ]
    }
   ],
   "source": [
    "driver.get(\"https://www.ip-label.fr/\")\n",
    "print(driver)"
   ]
  },
  {
   "cell_type": "code",
   "execution_count": null,
   "id": "d87b6748",
   "metadata": {},
   "outputs": [],
   "source": [
    "# Extract all URLs and navigation data\n",
    "anchor_elements = driver.find_elements(By.TAG_NAME, 'a')\n",
    "\n",
    "urls = [{element.text,element.get_attribute('href')} for element in anchor_elements]\n",
    "print(urls)"
   ]
  },
  {
   "cell_type": "code",
   "execution_count": null,
   "id": "8f6ab17a",
   "metadata": {},
   "outputs": [],
   "source": [
    "driver.FindElement(By.CssSelector(\"meta[property='og:description'][content='blah']\"));"
   ]
  },
  {
   "cell_type": "code",
   "execution_count": 5,
   "id": "57419cfc",
   "metadata": {},
   "outputs": [
    {
     "ename": "AttributeError",
     "evalue": "'WebDriver' object has no attribute 'CSS_SELECTOR'",
     "output_type": "error",
     "traceback": [
      "\u001b[1;31m---------------------------------------------------------------------------\u001b[0m",
      "\u001b[1;31mAttributeError\u001b[0m                            Traceback (most recent call last)",
      "Cell \u001b[1;32mIn[5], line 2\u001b[0m\n\u001b[0;32m      1\u001b[0m \u001b[38;5;66;03m# Extract the meta description\u001b[39;00m\n\u001b[1;32m----> 2\u001b[0m meta_description \u001b[38;5;241m=\u001b[39m driver\u001b[38;5;241m.\u001b[39mfind_element(\u001b[43mdriver\u001b[49m\u001b[38;5;241;43m.\u001b[39;49m\u001b[43mCSS_SELECTOR\u001b[49m, \u001b[38;5;124m\"\u001b[39m\u001b[38;5;124mmeta[name=\u001b[39m\u001b[38;5;124m'\u001b[39m\u001b[38;5;124mgenerator\u001b[39m\u001b[38;5;124m'\u001b[39m\u001b[38;5;124m]\u001b[39m\u001b[38;5;124m\"\u001b[39m)\u001b[38;5;241m.\u001b[39mget_attribute(\u001b[38;5;124m\"\u001b[39m\u001b[38;5;124mcontent\u001b[39m\u001b[38;5;124m\"\u001b[39m)\n\u001b[0;32m      3\u001b[0m \u001b[38;5;28mprint\u001b[39m(\u001b[38;5;124m\"\u001b[39m\u001b[38;5;124mMeta Description:\u001b[39m\u001b[38;5;124m\"\u001b[39m, meta_description)\n\u001b[0;32m      5\u001b[0m \u001b[38;5;66;03m# Extract other metadata attributes\u001b[39;00m\n",
      "\u001b[1;31mAttributeError\u001b[0m: 'WebDriver' object has no attribute 'CSS_SELECTOR'"
     ]
    }
   ],
   "source": [
    "# Extract the meta description\n",
    "meta_description = driver.find_element(driver.CSS_SELECTOR, \"meta[name='generator']\").get_attribute(\"content\")\n",
    "print(\"Meta Description:\", meta_description)\n",
    "\n",
    "# Extract other metadata attributes\n",
    "meta_keywords = driver.find_element(driver.CSS_SELECTOR, \"meta[name='keywords']\").get_attribute(\"content\")\n",
    "print(\"Meta Keywords:\", meta_keywords)"
   ]
  },
  {
   "cell_type": "code",
   "execution_count": 6,
   "id": "dca31a64",
   "metadata": {},
   "outputs": [
    {
     "name": "stdout",
     "output_type": "stream",
     "text": [
      "\n",
      "index, follow, max-image-preview:large, max-snippet:-1, max-video-preview:-1\n",
      "width=device-width, initial-scale=1\n",
      "fr_FR\n",
      "en_GB\n",
      "es_ES\n",
      "website\n",
      "Ekara les yeux de vos utilisateurs - Ip-label\n",
      "Ekara, les yeux de vos utilisateurs Ekara est une plateforme totalement hybride, capable de superviser 100% des applications existantes et de s’assurer de la disponibilité et de la performance de votre environnement (intranet et internet) Essayez dès maintenant Contactez-nous Ekara, les yeux de vos utilisateurs La première plateforme Française permettant la création de parcours utilisateur […]\n",
      "https://www.ip-label.fr/\n",
      "Ip-label\n",
      "2023-03-23T20:50:43+00:00\n",
      "https://www.ip-label.fr/wp-content/uploads/2023/01/Hybride-1-239x300.webp\n",
      "summary_large_image\n",
      "@iplabel\n",
      "WordPress 6.1.1\n",
      "Site Kit by Google 1.103.0\n",
      "Elementor 3.14.1; features: e_dom_optimization, e_optimized_assets_loading, e_optimized_css_loading, a11y_improvements, additional_custom_breakpoints; settings: css_print_method-external, google_font-enabled, font_display-swap\n",
      "https://www.ip-label.fr/wp-content/uploads/2022/11/cropped-ekara_mini-270x270.webp\n"
     ]
    }
   ],
   "source": [
    "# Find the <head> element\n",
    "head_element = driver.find_element(By.TAG_NAME, \"head\")\n",
    "\n",
    "head_element = head_element.find_elements(By.TAG_NAME, \"meta\")\n",
    "\n",
    "# Extract the contents of the <head> tag\n",
    "for i in head_element:\n",
    "    print(i.get_attribute(\"content\"))"
   ]
  },
  {
   "cell_type": "code",
   "execution_count": 23,
   "id": "370b3052",
   "metadata": {},
   "outputs": [],
   "source": [
    "try:\n",
    "    head_element = driver.find_element(By.TAG_NAME, \"head\")\n",
    "    generator_list = head_element.find_elements(By.CSS_SELECTOR, \"meta[name=generator]\")\n",
    "    for generator in generator_list:\n",
    "        print(generator.get_attribute(\"content\"))\n",
    "except:\n",
    "    print(\"Not found\")"
   ]
  },
  {
   "cell_type": "code",
   "execution_count": null,
   "id": "5392dd44",
   "metadata": {},
   "outputs": [],
   "source": [
    "# Find the <head> element\n",
    "head_element = driver.find_element(By.TAG_NAME, \"head\")\n",
    "\n",
    "# Extract the contents of the <head> tag\n",
    "print(head_element.get_attribute(\"innerHTML\"))"
   ]
  },
  {
   "cell_type": "code",
   "execution_count": 26,
   "id": "055441d4",
   "metadata": {},
   "outputs": [
    {
     "name": "stdout",
     "output_type": "stream",
     "text": [
      "<selenium.webdriver.remote.webelement.WebElement (session=\"7497fe90d00c3a6c312d507e39e8d629\", element=\"E53C30E9A32F30112FDA0BF4E0368B59_element_32\")>\n",
      "[<selenium.webdriver.remote.webelement.WebElement (session=\"7497fe90d00c3a6c312d507e39e8d629\", element=\"E53C30E9A32F30112FDA0BF4E0368B59_element_29\")>, <selenium.webdriver.remote.webelement.WebElement (session=\"7497fe90d00c3a6c312d507e39e8d629\", element=\"E53C30E9A32F30112FDA0BF4E0368B59_element_30\")>, <selenium.webdriver.remote.webelement.WebElement (session=\"7497fe90d00c3a6c312d507e39e8d629\", element=\"E53C30E9A32F30112FDA0BF4E0368B59_element_31\")>]\n",
      "WordPress 6.1.1\n",
      "Site Kit by Google 1.103.0\n",
      "Elementor 3.14.1; features: e_dom_optimization, e_optimized_assets_loading, e_optimized_css_loading, a11y_improvements, additional_custom_breakpoints; settings: css_print_method-external, google_font-enabled, font_display-swap\n"
     ]
    }
   ],
   "source": [
    "head_element = driver.find_element(By.TAG_NAME, \"head\")\n",
    "print(head_element)\n",
    "generator_list = head_element.find_elements(By.CSS_SELECTOR, \"meta[name=generator]\")\n",
    "print(generator_list)\n",
    "for generator in generator_list:\n",
    "        print(generator.get_attribute(\"content\"))"
   ]
  },
  {
   "cell_type": "code",
   "execution_count": null,
   "id": "aba55090",
   "metadata": {},
   "outputs": [],
   "source": []
  }
 ],
 "metadata": {
  "kernelspec": {
   "display_name": "Python 3 (ipykernel)",
   "language": "python",
   "name": "python3"
  },
  "language_info": {
   "codemirror_mode": {
    "name": "ipython",
    "version": 3
   },
   "file_extension": ".py",
   "mimetype": "text/x-python",
   "name": "python",
   "nbconvert_exporter": "python",
   "pygments_lexer": "ipython3",
   "version": "3.10.9"
  }
 },
 "nbformat": 4,
 "nbformat_minor": 5
}
