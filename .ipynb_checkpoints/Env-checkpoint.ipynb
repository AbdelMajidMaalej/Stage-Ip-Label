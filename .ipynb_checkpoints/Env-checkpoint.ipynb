{
 "cells": [
  {
   "cell_type": "code",
   "execution_count": 1,
   "id": "48e90749",
   "metadata": {},
   "outputs": [],
   "source": [
    "from selenium import webdriver\n",
    "from selenium.webdriver.chrome.service import Service\n",
    "from selenium.webdriver.chrome.options import Options\n",
    "from selenium.common.exceptions import ElementNotInteractableException\n",
    "from selenium.common.exceptions import StaleElementReferenceException"
   ]
  },
  {
   "cell_type": "code",
   "execution_count": 2,
   "id": "716916d2",
   "metadata": {},
   "outputs": [],
   "source": [
    "import gym\n",
    "from gym import Env\n",
    "from gym import spaces\n",
    "import numpy as np"
   ]
  },
  {
   "cell_type": "code",
   "execution_count": 3,
   "id": "3cac8d9d",
   "metadata": {},
   "outputs": [
    {
     "name": "stdout",
     "output_type": "stream",
     "text": [
      "Current working directory: C:\\Users\\ASUS\\Documents\\Stage\n"
     ]
    }
   ],
   "source": [
    "from Reward import get_reward\n",
    "from Form import submit_form"
   ]
  },
  {
   "cell_type": "code",
   "execution_count": 7,
   "id": "116f230d",
   "metadata": {},
   "outputs": [],
   "source": [
    "class Agent(Env):\n",
    "    \n",
    "    \n",
    "    def __init__(self,dic,tabs,url):\n",
    "        super(CustomEnvironment, self).__init__()\n",
    "        # Define observation space\n",
    "        self.observation_space = spaces.Discrete(len(tabs))\n",
    "        \n",
    "        # Define a dictionary to map each state to its corresponding action space\n",
    "        self.state_action_spaces = { \n",
    "            key : spaces.Discrete(value)  for key, value in dic.items()\n",
    "                                   }\n",
    "        \n",
    "        # Initialize other environment-specific variables here\n",
    "        self.state = random.randint(0,observation_space-1)\n",
    "        self.all_elements = tabs\n",
    "        self.urls_visited = []\n",
    "        self.driver = self.get_driver(url)\n",
    "\n",
    "    def reset(self):\n",
    "        # Reset the environment to its initial state\n",
    "        self.urls_visited = []\n",
    "        self.state = random.randint(0,observation_space-1)\n",
    "        self.driver.get(tabs[self.state][\"page\"])\n",
    "        return self.state\n",
    "\n",
    "    def step(self, action):\n",
    "        #Get the random action\n",
    "        element = self.all_elements[self.state][\"page_elements\"][action]\n",
    "        current_url, reward = self.execute_element(element)\n",
    "        done = self.is_episode_done(current_url)\n",
    "        new_observation = -1\n",
    "        for i,page in enumerate(tabs):\n",
    "            if current_url == page[\"page\"]:\n",
    "                new_observation = i\n",
    "                break\n",
    "        return new_observation, reward, done, {}\n",
    "\n",
    "    def get_current_action_space(self):\n",
    "        current_state = self.observation_space.sample()  # Replace with actual current state\n",
    "        return self.state_action_spaces[current_state]\n",
    "    \n",
    "    def is_episode_done(self,url):\n",
    "        if url in self.urls_visited:\n",
    "            return True\n",
    "        else:\n",
    "            return False\n",
    "        \n",
    "    def execute_element(self,element):\n",
    "        if element[\"type\"]==\"button\":\n",
    "            try:\n",
    "                button = self.driver.find_element(By.XPATH, element[\"xPath\"])\n",
    "                button.click()\n",
    "                reward = get_reward(self.driver.current_url) + 1\n",
    "            except:\n",
    "                reward = -100\n",
    "        elif element[\"type\"]==\"form\":\n",
    "            try:\n",
    "                    form = driver.find_element(By.XPATH, element[\"xPath\"])\n",
    "                    submit_form(self.driver,form)\n",
    "                    reward = get_reward(self.driver.current_url) + 1\n",
    "            except :\n",
    "                reward = -100\n",
    "        elif element[\"type\"]==\"input\":\n",
    "            try:\n",
    "                input_element = driver.find_element(By.XPATH, element[\"xPath\"])\n",
    "                text_to_write = \"Hello\"\n",
    "                input_element.send_keys(text_to_write)\n",
    "                reward = get_reward(self.driver.current_url) + 1      \n",
    "            except :\n",
    "                    reward = -100\n",
    "        current_url = self.driver.current_url\n",
    "        self.urls_visited.append({\"url\":current_url,\"reward\":reward})\n",
    "        return current_url,reward\n",
    "        \n",
    "    def get_driver(self,url):\n",
    "            chrome_options = Options()\n",
    "            service = Service(executable_path='C:\\Program Files (x86)\\chromedriver.exe')\n",
    "            chrome_options.binary_location = 'C:\\Program Files\\Google\\Chrome\\Application\\chrome.exe'  # Specify the path to the Chrome browser executable if needed\n",
    "            chrome_options.add_argument('--headless')  # Run Chrome in headless mode\n",
    "            print(url)\n",
    "            # Set up Chrome WebDriver with the local ChromeDriver executable\n",
    "            driver = webdriver.Chrome(options=chrome_options, service=service)\n",
    "            driver.get(url)\n",
    "            return driver\n",
    "        \n",
    "        \n",
    "        "
   ]
  },
  {
   "cell_type": "code",
   "execution_count": null,
   "id": "53c187b4",
   "metadata": {},
   "outputs": [],
   "source": []
  }
 ],
 "metadata": {
  "kernelspec": {
   "display_name": "Python 3 (ipykernel)",
   "language": "python",
   "name": "python3"
  },
  "language_info": {
   "codemirror_mode": {
    "name": "ipython",
    "version": 3
   },
   "file_extension": ".py",
   "mimetype": "text/x-python",
   "name": "python",
   "nbconvert_exporter": "python",
   "pygments_lexer": "ipython3",
   "version": "3.10.9"
  }
 },
 "nbformat": 4,
 "nbformat_minor": 5
}
