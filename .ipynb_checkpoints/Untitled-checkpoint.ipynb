{
 "cells": [
  {
   "cell_type": "code",
   "execution_count": 6,
   "id": "5ceeaff9",
   "metadata": {
    "scrolled": true
   },
   "outputs": [],
   "source": [
    "from Env import Agent"
   ]
  },
  {
   "cell_type": "code",
   "execution_count": 8,
   "id": "174d87af",
   "metadata": {},
   "outputs": [
    {
     "name": "stdout",
     "output_type": "stream",
     "text": [
      "Collecting nbimport\n",
      "  Downloading nbimport-0.0.0.tar.gz (1.7 kB)\n",
      "  Preparing metadata (setup.py): started\n",
      "  Preparing metadata (setup.py): finished with status 'done'\n",
      "Building wheels for collected packages: nbimport\n",
      "  Building wheel for nbimport (setup.py): started\n",
      "  Building wheel for nbimport (setup.py): finished with status 'done'\n",
      "  Created wheel for nbimport: filename=nbimport-0.0.0-py3-none-any.whl size=1857 sha256=a7d6b586382315bdc2ac8b95c65f727bfcf342453c5f5d7174abf83edce4222a\n",
      "  Stored in directory: c:\\users\\asus\\appdata\\local\\pip\\cache\\wheels\\9b\\2f\\bc\\3f1925f12262e85960c49a4890e15963d836ecb53328462c7a\n",
      "Successfully built nbimport\n",
      "Installing collected packages: nbimport\n",
      "Successfully installed nbimport-0.0.0\n"
     ]
    }
   ],
   "source": [
    "!pip install nbimport"
   ]
  },
  {
   "cell_type": "code",
   "execution_count": 10,
   "id": "7779e4f9",
   "metadata": {},
   "outputs": [
    {
     "ename": "ModuleNotFoundError",
     "evalue": "No module named 'RL_Agent'",
     "output_type": "error",
     "traceback": [
      "\u001b[1;31m---------------------------------------------------------------------------\u001b[0m",
      "\u001b[1;31mModuleNotFoundError\u001b[0m                       Traceback (most recent call last)",
      "Cell \u001b[1;32mIn[10], line 2\u001b[0m\n\u001b[0;32m      1\u001b[0m \u001b[38;5;28;01mimport\u001b[39;00m \u001b[38;5;21;01mnbimport\u001b[39;00m\n\u001b[1;32m----> 2\u001b[0m \u001b[38;5;28;01mimport\u001b[39;00m \u001b[38;5;21;01mRL_Agent\u001b[39;00m\u001b[38;5;21;01m.\u001b[39;00m\u001b[38;5;21;01mipynb\u001b[39;00m  \u001b[38;5;66;03m# Replace with the actual filename of the saved notebook\u001b[39;00m\n\u001b[0;32m      4\u001b[0m \u001b[38;5;28mprint\u001b[39m(RL_Agent\u001b[38;5;241m.\u001b[39mtabs)\n",
      "\u001b[1;31mModuleNotFoundError\u001b[0m: No module named 'RL_Agent'"
     ]
    }
   ],
   "source": [
    "import nbimport\n",
    "import RL_Agent.ipynb  # Replace with the actual filename of the saved notebook\n",
    "\n",
    "print(RL_Agent.tabs)  # Use the output variable from the saved notebook"
   ]
  },
  {
   "cell_type": "code",
   "execution_count": 5,
   "id": "786acdfc",
   "metadata": {},
   "outputs": [
    {
     "ename": "AssertionError",
     "evalue": "n (counts) have to be positive",
     "output_type": "error",
     "traceback": [
      "\u001b[1;31m---------------------------------------------------------------------------\u001b[0m",
      "\u001b[1;31mAssertionError\u001b[0m                            Traceback (most recent call last)",
      "Cell \u001b[1;32mIn[5], line 1\u001b[0m\n\u001b[1;32m----> 1\u001b[0m env \u001b[38;5;241m=\u001b[39m \u001b[43mAgent\u001b[49m\u001b[43m(\u001b[49m\u001b[43mtabs\u001b[49m\u001b[43m,\u001b[49m\u001b[43mdic\u001b[49m\u001b[43m)\u001b[49m\n",
      "File \u001b[1;32m~\\Documents\\Stage\\Env.py:38\u001b[0m, in \u001b[0;36mAgent.__init__\u001b[1;34m(self, dic, tabs)\u001b[0m\n\u001b[0;32m     36\u001b[0m \u001b[38;5;28msuper\u001b[39m(Agent, \u001b[38;5;28mself\u001b[39m)\u001b[38;5;241m.\u001b[39m\u001b[38;5;21m__init__\u001b[39m()\n\u001b[0;32m     37\u001b[0m \u001b[38;5;66;03m# Define observation space\u001b[39;00m\n\u001b[1;32m---> 38\u001b[0m \u001b[38;5;28mself\u001b[39m\u001b[38;5;241m.\u001b[39mobservation_space \u001b[38;5;241m=\u001b[39m \u001b[43mspaces\u001b[49m\u001b[38;5;241;43m.\u001b[39;49m\u001b[43mDiscrete\u001b[49m\u001b[43m(\u001b[49m\u001b[38;5;28;43mlen\u001b[39;49m\u001b[43m(\u001b[49m\u001b[43mtabs\u001b[49m\u001b[43m)\u001b[49m\u001b[43m)\u001b[49m\n\u001b[0;32m     40\u001b[0m \u001b[38;5;66;03m# Define a dictionary to map each state to its corresponding action space\u001b[39;00m\n\u001b[0;32m     41\u001b[0m \u001b[38;5;28mself\u001b[39m\u001b[38;5;241m.\u001b[39mstate_action_spaces \u001b[38;5;241m=\u001b[39m { \n\u001b[0;32m     42\u001b[0m     key : spaces\u001b[38;5;241m.\u001b[39mDiscrete(value)  \u001b[38;5;28;01mfor\u001b[39;00m key, value \u001b[38;5;129;01min\u001b[39;00m dic\u001b[38;5;241m.\u001b[39mitems()\n\u001b[0;32m     43\u001b[0m                            }\n",
      "File \u001b[1;32m~\\anaconda3\\lib\\site-packages\\gym\\spaces\\discrete.py:36\u001b[0m, in \u001b[0;36mDiscrete.__init__\u001b[1;34m(self, n, seed, start)\u001b[0m\n\u001b[0;32m     26\u001b[0m \u001b[38;5;124mr\u001b[39m\u001b[38;5;124;03m\"\"\"Constructor of :class:`Discrete` space.\u001b[39;00m\n\u001b[0;32m     27\u001b[0m \n\u001b[0;32m     28\u001b[0m \u001b[38;5;124;03mThis will construct the space :math:`\\{\\text{start}, ..., \\text{start} + n - 1\\}`.\u001b[39;00m\n\u001b[1;32m   (...)\u001b[0m\n\u001b[0;32m     33\u001b[0m \u001b[38;5;124;03m    start (int): The smallest element of this space.\u001b[39;00m\n\u001b[0;32m     34\u001b[0m \u001b[38;5;124;03m\"\"\"\u001b[39;00m\n\u001b[0;32m     35\u001b[0m \u001b[38;5;28;01massert\u001b[39;00m \u001b[38;5;28misinstance\u001b[39m(n, (\u001b[38;5;28mint\u001b[39m, np\u001b[38;5;241m.\u001b[39minteger))\n\u001b[1;32m---> 36\u001b[0m \u001b[38;5;28;01massert\u001b[39;00m n \u001b[38;5;241m>\u001b[39m \u001b[38;5;241m0\u001b[39m, \u001b[38;5;124m\"\u001b[39m\u001b[38;5;124mn (counts) have to be positive\u001b[39m\u001b[38;5;124m\"\u001b[39m\n\u001b[0;32m     37\u001b[0m \u001b[38;5;28;01massert\u001b[39;00m \u001b[38;5;28misinstance\u001b[39m(start, (\u001b[38;5;28mint\u001b[39m, np\u001b[38;5;241m.\u001b[39minteger))\n\u001b[0;32m     38\u001b[0m \u001b[38;5;28mself\u001b[39m\u001b[38;5;241m.\u001b[39mn \u001b[38;5;241m=\u001b[39m \u001b[38;5;28mint\u001b[39m(n)\n",
      "\u001b[1;31mAssertionError\u001b[0m: n (counts) have to be positive"
     ]
    }
   ],
   "source": [
    "env = Agent(tabs,dic)"
   ]
  },
  {
   "cell_type": "code",
   "execution_count": null,
   "id": "23ff4bd0",
   "metadata": {},
   "outputs": [],
   "source": []
  }
 ],
 "metadata": {
  "kernelspec": {
   "display_name": "Python 3 (ipykernel)",
   "language": "python",
   "name": "python3"
  },
  "language_info": {
   "codemirror_mode": {
    "name": "ipython",
    "version": 3
   },
   "file_extension": ".py",
   "mimetype": "text/x-python",
   "name": "python",
   "nbconvert_exporter": "python",
   "pygments_lexer": "ipython3",
   "version": "3.10.9"
  }
 },
 "nbformat": 4,
 "nbformat_minor": 5
}
