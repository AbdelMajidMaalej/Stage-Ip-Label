{
 "cells": [
  {
   "cell_type": "code",
   "execution_count": null,
   "id": "f3cbfb59",
   "metadata": {},
   "outputs": [],
   "source": [
    "from locust import HttpUser, task, between"
   ]
  },
  {
   "cell_type": "code",
   "execution_count": null,
   "id": "54e9723e",
   "metadata": {},
   "outputs": [],
   "source": [
    "class MyUser(HttpUser):\n",
    "    wait_time = between(1, 5)  # Wait time between tasks in seconds\n",
    "    @task\n",
    "    def my_task(self):\n",
    "        self.client.get(\"/home\")  # Replace \"/home\" with the URL you want to visit"
   ]
  }
 ],
 "metadata": {
  "kernelspec": {
   "display_name": "Python 3 (ipykernel)",
   "language": "python",
   "name": "python3"
  },
  "language_info": {
   "codemirror_mode": {
    "name": "ipython",
    "version": 3
   },
   "file_extension": ".py",
   "mimetype": "text/x-python",
   "name": "python",
   "nbconvert_exporter": "python",
   "pygments_lexer": "ipython3",
   "version": "3.10.9"
  }
 },
 "nbformat": 4,
 "nbformat_minor": 5
}
