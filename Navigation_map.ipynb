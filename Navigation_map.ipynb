{
 "cells": [
  {
   "cell_type": "code",
   "execution_count": 1,
   "id": "d4936b9a",
   "metadata": {},
   "outputs": [],
   "source": [
    "from collections import deque\n",
    "from selenium import webdriver\n",
    "from selenium.webdriver.chrome.service import Service\n",
    "from selenium.webdriver.chrome.options import Options\n",
    "from selenium.webdriver.common.by import By\n",
    "from selenium.common.exceptions import ElementNotInteractableException\n",
    "from selenium.common.exceptions import StaleElementReferenceException\n",
    "from selenium.webdriver.support.ui import WebDriverWait\n",
    "from selenium.webdriver.support import expected_conditions as EC\n",
    "from bs4 import BeautifulSoup\n",
    "import codecs\n",
    "import re\n",
    "from webdriver_manager.chrome import ChromeDriverManager\n",
    "import time"
   ]
  },
  {
   "cell_type": "code",
   "execution_count": null,
   "id": "0930ac99",
   "metadata": {},
   "outputs": [],
   "source": [
    "def get_page_elements(driver,url):\n",
    "    driver.get(url)\n",
    "    # Extract all URLs and navigation data\n",
    "    anchor_elements = driver.find_elements(By.TAG_NAME, 'a')\n",
    "    all_elements = [{\"type\":\"button\",\"element\":element,\"next\":None} for element in anchor_elements]\n",
    "    input_elements = driver.find_elements(By.CSS_SELECTOR, \"input[type='search']\")\n",
    "    all_elements.extend([{\"type\":\"input\",\"element\":element,\"next\":None} for element in input_elements])\n",
    "    return all_elements"
   ]
  },
  {
   "cell_type": "code",
   "execution_count": null,
   "id": "0f679263",
   "metadata": {},
   "outputs": [],
   "source": [
    "def get_page(tabs,url,driver): \n",
    "    if url != None and \"https://www.ip-label.fr/\" in url:\n",
    "        url = url.split('#')[0]\n",
    "        exist = False\n",
    "        for page in tabs:\n",
    "            if page[\"page\"] == url or page[\"page\"]+\"#\" == url:\n",
    "                exist = True\n",
    "        if exist:\n",
    "            return page[\"index\"]\n",
    "        else:\n",
    "            # Execute JavaScript to open a new tab.\n",
    "            script = f\"window.open('{url}', '_blank');\"\n",
    "            driver.execute_script(script)\n",
    "            index=len(tabs)\n",
    "            tabs.append({\"page\":url,\"index\":index,\"page_elements\" : []})\n",
    "            return index\n",
    "    else:\n",
    "        return None\n",
    "        \n",
    "    \n",
    "\n",
    "def open_tab(url,tabs,element,driver):\n",
    "        index = get_page(tabs,url,driver)\n",
    "        if index != None:\n",
    "            # Switch to the new tab.\n",
    "            new_tab_handle = driver.window_handles[index]\n",
    "            driver.switch_to.window(new_tab_handle)\n",
    "            element[\"next\"] = url\n",
    "                "
   ]
  },
  {
   "cell_type": "code",
   "execution_count": null,
   "id": "ecd626be",
   "metadata": {},
   "outputs": [],
   "source": [
    "def input_xpath(element):\n",
    "    tag_name = element.tag_name\n",
    "    input_class = element.get_attribute(\"class\")\n",
    "    input_id = element.get_attribute(\"id\")\n",
    "    input_name = element.get_attribute(\"name\")\n",
    "    aria_label = element.get_attribute(\"aria-label\")\n",
    "    xpath = f\"//{tag_name}[@class='{input_class}' and @id='{input_id}' and @name='{input_name}' and @aria-label='{aria_label}']\"\n",
    "\n",
    "    # Construct the XPath manually using the tag name and attributes\n",
    "    return xpath"
   ]
  },
  {
   "cell_type": "code",
   "execution_count": null,
   "id": "f41aa53d",
   "metadata": {},
   "outputs": [],
   "source": [
    "def next_element(tabs,driver,url,all_elements,element,index):\n",
    "    new_tab_handle = driver.window_handles[index]\n",
    "    driver.switch_to.window(new_tab_handle)\n",
    "    if element[\"type\"]==\"button\":\n",
    "        try:\n",
    "            url=element[\"element\"].get_attribute('href')\n",
    "            open_tab(url,tabs,element,driver)\n",
    "        except ElementNotInteractableException:\n",
    "                all_elements.remove(element)\n",
    "        except StaleElementReferenceException:\n",
    "            print(\"Button : StaleElementReferenceException\")\n",
    "    else:\n",
    "        if element[\"type\"]==\"input\":\n",
    "            try:\n",
    "                xpath = input_xpath(element[\"element\"])\n",
    "                script = f\"window.open('{driver.current_url}', '_blank');\"\n",
    "                driver.execute_script(script)\n",
    "                # Switch to the new tab\n",
    "                driver.switch_to.window(driver.window_handles[-1])\n",
    "                text_to_write = \"Hello\"\n",
    "                old_element = element\n",
    "                element = driver.find_element(By.XPATH, xpath)\n",
    "                element.send_keys(text_to_write)\n",
    "                url= driver.current_url\n",
    "                length = len(tabs)\n",
    "                if length!=get_page(tabs,url,driver):\n",
    "                    driver.close()\n",
    "            except ElementNotInteractableException:\n",
    "                all_elements.remove(old_element) \n",
    "            except StaleElementReferenceException:\n",
    "                print(\"Input : StaleElementReferenceException\")\n",
    "                \n",
    "            \n",
    "            "
   ]
  },
  {
   "cell_type": "code",
   "execution_count": null,
   "id": "d7ece903",
   "metadata": {},
   "outputs": [],
   "source": [
    "def script(url):\n",
    "    # Set up Chrome options\n",
    "    chrome_options = Options()\n",
    "    service = Service(executable_path='C:\\Program Files (x86)\\chromedriver.exe')\n",
    "    chrome_options.binary_location = 'C:\\Program Files\\Google\\Chrome\\Application\\chrome.exe'  # Specify the path to the Chrome browser executable if needed\n",
    "    chrome_options.add_argument('--headless')  # Run Chrome in headless mode\n",
    "    chrome_options.add_argument('--page-load-timeout=60')\n",
    "\n",
    "    # Set up Chrome WebDriver with the local ChromeDriver executable\n",
    "    driver = webdriver.Chrome(options=chrome_options, service=service)\n",
    "    length = 0\n",
    "    tabs = [{\"page\": url,\"index\":0,\"page_elements\" : []}]\n",
    "    \n",
    "    while length<len(tabs):\n",
    "        start_time = time.time()\n",
    "        driver.switch_to.window(driver.window_handles[length])\n",
    "        if length ==0:\n",
    "            current_url = url\n",
    "        else:\n",
    "            current_url = driver.current_url\n",
    "        all_elements = get_page_elements(driver,current_url)\n",
    "        for element in all_elements:\n",
    "            next_element(tabs,driver,current_url,all_elements,element,length)\n",
    "        tabs[length][\"page_elements\"] = all_elements\n",
    "        end_time = time.time()\n",
    "        execution_time = end_time - start_time\n",
    "        print(\"------------------------\")\n",
    "        print(current_url)\n",
    "        print(execution_time)\n",
    "        print(\"------------------------\")\n",
    "        length += 1\n",
    "    return tabs\n",
    "        \n",
    "    \n",
    "        \n",
    "    \n",
    "    \n",
    "    \n",
    "        \n",
    "    "
   ]
  },
  {
   "cell_type": "code",
   "execution_count": null,
   "id": "df77c05b",
   "metadata": {},
   "outputs": [],
   "source": [
    "tabs = script(\"https://www.ip-label.fr/\")"
   ]
  },
  {
   "cell_type": "code",
   "execution_count": null,
   "id": "4e1fbd64",
   "metadata": {},
   "outputs": [],
   "source": [
    "for page in tabs:\n",
    "    if page[\"index\"]==1:\n",
    "        driver.switch_to.window(driver.window_handles[1])\n",
    "        page\n",
    "        \n",
    "\n",
    "\n",
    "        \n"
   ]
  },
  {
   "cell_type": "code",
   "execution_count": 3,
   "id": "fb563633",
   "metadata": {},
   "outputs": [
    {
     "name": "stdout",
     "output_type": "stream",
     "text": [
      "https://www.ip-label.fr/choix-action\n"
     ]
    },
    {
     "ename": "NoSuchElementException",
     "evalue": "Message: no such element: Unable to locate element: {\"method\":\"xpath\",\"selector\":\"/html[1]/body[1]/div[2]/div[1]/main[1]/div[1]/div[1]/div[1]/article[1]/div[1]/div[1]/section[1]/div[1]/div[1]/div[1]/div[3]/div[1]/div[1]/a[1]\"}\n  (Session info: chrome=116.0.5845.111)\nStacktrace:\n\tGetHandleVerifier [0x00007FF759BB52A2+57122]\n\t(No symbol) [0x00007FF759B2EA92]\n\t(No symbol) [0x00007FF7599FE3AB]\n\t(No symbol) [0x00007FF759A37D3E]\n\t(No symbol) [0x00007FF759A37E2C]\n\t(No symbol) [0x00007FF759A70B67]\n\t(No symbol) [0x00007FF759A5701F]\n\t(No symbol) [0x00007FF759A6EB82]\n\t(No symbol) [0x00007FF759A56DB3]\n\t(No symbol) [0x00007FF759A2D2B1]\n\t(No symbol) [0x00007FF759A2E494]\n\tGetHandleVerifier [0x00007FF759E5EF82+2849794]\n\tGetHandleVerifier [0x00007FF759EB1D24+3189156]\n\tGetHandleVerifier [0x00007FF759EAACAF+3160367]\n\tGetHandleVerifier [0x00007FF759C46D06+653702]\n\t(No symbol) [0x00007FF759B3A208]\n\t(No symbol) [0x00007FF759B362C4]\n\t(No symbol) [0x00007FF759B363F6]\n\t(No symbol) [0x00007FF759B267A3]\n\tBaseThreadInitThunk [0x00007FF83D9B7614+20]\n\tRtlUserThreadStart [0x00007FF83DDA26B1+33]\n",
     "output_type": "error",
     "traceback": [
      "\u001b[1;31m---------------------------------------------------------------------------\u001b[0m",
      "\u001b[1;31mNoSuchElementException\u001b[0m                    Traceback (most recent call last)",
      "Cell \u001b[1;32mIn[3], line 16\u001b[0m\n\u001b[0;32m     11\u001b[0m     element \u001b[38;5;241m=\u001b[39m {\u001b[38;5;124m'\u001b[39m\u001b[38;5;124mtype\u001b[39m\u001b[38;5;124m'\u001b[39m: \u001b[38;5;124m'\u001b[39m\u001b[38;5;124mbutton\u001b[39m\u001b[38;5;124m'\u001b[39m, \u001b[38;5;124m'\u001b[39m\u001b[38;5;124mnext\u001b[39m\u001b[38;5;124m'\u001b[39m: \u001b[38;5;124m'\u001b[39m\u001b[38;5;124mhttps://www.ip-label.fr/formulaire-contact-supervision-des-applications-metier\u001b[39m\u001b[38;5;124m'\u001b[39m, \u001b[38;5;124m'\u001b[39m\u001b[38;5;124mxPath\u001b[39m\u001b[38;5;124m'\u001b[39m: \u001b[38;5;124m'\u001b[39m\u001b[38;5;124m/html[1]/body[1]/div[2]/div[1]/main[1]/div[1]/div[1]/div[1]/article[1]/div[1]/div[1]/section[1]/div[1]/div[1]/div[1]/div[3]/div[1]/div[1]/a[1]\u001b[39m\u001b[38;5;124m'\u001b[39m}\n\u001b[0;32m     12\u001b[0m     elem \u001b[38;5;241m=\u001b[39m driver\u001b[38;5;241m.\u001b[39mfind_element(By\u001b[38;5;241m.\u001b[39mXPATH, element[\u001b[38;5;124m\"\u001b[39m\u001b[38;5;124mxPath\u001b[39m\u001b[38;5;124m\"\u001b[39m])\n\u001b[1;32m---> 16\u001b[0m \u001b[43mscriptt\u001b[49m\u001b[43m(\u001b[49m\u001b[38;5;124;43m'\u001b[39;49m\u001b[38;5;124;43mhttps://www.ip-label.fr/choix-action\u001b[39;49m\u001b[38;5;124;43m'\u001b[39;49m\u001b[43m)\u001b[49m\n",
      "Cell \u001b[1;32mIn[3], line 12\u001b[0m, in \u001b[0;36mscriptt\u001b[1;34m(url)\u001b[0m\n\u001b[0;32m     10\u001b[0m driver\u001b[38;5;241m.\u001b[39mget(url)\n\u001b[0;32m     11\u001b[0m element \u001b[38;5;241m=\u001b[39m {\u001b[38;5;124m'\u001b[39m\u001b[38;5;124mtype\u001b[39m\u001b[38;5;124m'\u001b[39m: \u001b[38;5;124m'\u001b[39m\u001b[38;5;124mbutton\u001b[39m\u001b[38;5;124m'\u001b[39m, \u001b[38;5;124m'\u001b[39m\u001b[38;5;124mnext\u001b[39m\u001b[38;5;124m'\u001b[39m: \u001b[38;5;124m'\u001b[39m\u001b[38;5;124mhttps://www.ip-label.fr/formulaire-contact-supervision-des-applications-metier\u001b[39m\u001b[38;5;124m'\u001b[39m, \u001b[38;5;124m'\u001b[39m\u001b[38;5;124mxPath\u001b[39m\u001b[38;5;124m'\u001b[39m: \u001b[38;5;124m'\u001b[39m\u001b[38;5;124m/html[1]/body[1]/div[2]/div[1]/main[1]/div[1]/div[1]/div[1]/article[1]/div[1]/div[1]/section[1]/div[1]/div[1]/div[1]/div[3]/div[1]/div[1]/a[1]\u001b[39m\u001b[38;5;124m'\u001b[39m}\n\u001b[1;32m---> 12\u001b[0m elem \u001b[38;5;241m=\u001b[39m \u001b[43mdriver\u001b[49m\u001b[38;5;241;43m.\u001b[39;49m\u001b[43mfind_element\u001b[49m\u001b[43m(\u001b[49m\u001b[43mBy\u001b[49m\u001b[38;5;241;43m.\u001b[39;49m\u001b[43mXPATH\u001b[49m\u001b[43m,\u001b[49m\u001b[43m \u001b[49m\u001b[43melement\u001b[49m\u001b[43m[\u001b[49m\u001b[38;5;124;43m\"\u001b[39;49m\u001b[38;5;124;43mxPath\u001b[39;49m\u001b[38;5;124;43m\"\u001b[39;49m\u001b[43m]\u001b[49m\u001b[43m)\u001b[49m\n",
      "File \u001b[1;32m~\\anaconda3\\lib\\site-packages\\selenium\\webdriver\\remote\\webdriver.py:831\u001b[0m, in \u001b[0;36mWebDriver.find_element\u001b[1;34m(self, by, value)\u001b[0m\n\u001b[0;32m    828\u001b[0m     by \u001b[38;5;241m=\u001b[39m By\u001b[38;5;241m.\u001b[39mCSS_SELECTOR\n\u001b[0;32m    829\u001b[0m     value \u001b[38;5;241m=\u001b[39m \u001b[38;5;124mf\u001b[39m\u001b[38;5;124m'\u001b[39m\u001b[38;5;124m[name=\u001b[39m\u001b[38;5;124m\"\u001b[39m\u001b[38;5;132;01m{\u001b[39;00mvalue\u001b[38;5;132;01m}\u001b[39;00m\u001b[38;5;124m\"\u001b[39m\u001b[38;5;124m]\u001b[39m\u001b[38;5;124m'\u001b[39m\n\u001b[1;32m--> 831\u001b[0m \u001b[38;5;28;01mreturn\u001b[39;00m \u001b[38;5;28;43mself\u001b[39;49m\u001b[38;5;241;43m.\u001b[39;49m\u001b[43mexecute\u001b[49m\u001b[43m(\u001b[49m\u001b[43mCommand\u001b[49m\u001b[38;5;241;43m.\u001b[39;49m\u001b[43mFIND_ELEMENT\u001b[49m\u001b[43m,\u001b[49m\u001b[43m \u001b[49m\u001b[43m{\u001b[49m\u001b[38;5;124;43m\"\u001b[39;49m\u001b[38;5;124;43musing\u001b[39;49m\u001b[38;5;124;43m\"\u001b[39;49m\u001b[43m:\u001b[49m\u001b[43m \u001b[49m\u001b[43mby\u001b[49m\u001b[43m,\u001b[49m\u001b[43m \u001b[49m\u001b[38;5;124;43m\"\u001b[39;49m\u001b[38;5;124;43mvalue\u001b[39;49m\u001b[38;5;124;43m\"\u001b[39;49m\u001b[43m:\u001b[49m\u001b[43m \u001b[49m\u001b[43mvalue\u001b[49m\u001b[43m}\u001b[49m\u001b[43m)\u001b[49m[\u001b[38;5;124m\"\u001b[39m\u001b[38;5;124mvalue\u001b[39m\u001b[38;5;124m\"\u001b[39m]\n",
      "File \u001b[1;32m~\\anaconda3\\lib\\site-packages\\selenium\\webdriver\\remote\\webdriver.py:440\u001b[0m, in \u001b[0;36mWebDriver.execute\u001b[1;34m(self, driver_command, params)\u001b[0m\n\u001b[0;32m    438\u001b[0m response \u001b[38;5;241m=\u001b[39m \u001b[38;5;28mself\u001b[39m\u001b[38;5;241m.\u001b[39mcommand_executor\u001b[38;5;241m.\u001b[39mexecute(driver_command, params)\n\u001b[0;32m    439\u001b[0m \u001b[38;5;28;01mif\u001b[39;00m response:\n\u001b[1;32m--> 440\u001b[0m     \u001b[38;5;28;43mself\u001b[39;49m\u001b[38;5;241;43m.\u001b[39;49m\u001b[43merror_handler\u001b[49m\u001b[38;5;241;43m.\u001b[39;49m\u001b[43mcheck_response\u001b[49m\u001b[43m(\u001b[49m\u001b[43mresponse\u001b[49m\u001b[43m)\u001b[49m\n\u001b[0;32m    441\u001b[0m     response[\u001b[38;5;124m\"\u001b[39m\u001b[38;5;124mvalue\u001b[39m\u001b[38;5;124m\"\u001b[39m] \u001b[38;5;241m=\u001b[39m \u001b[38;5;28mself\u001b[39m\u001b[38;5;241m.\u001b[39m_unwrap_value(response\u001b[38;5;241m.\u001b[39mget(\u001b[38;5;124m\"\u001b[39m\u001b[38;5;124mvalue\u001b[39m\u001b[38;5;124m\"\u001b[39m, \u001b[38;5;28;01mNone\u001b[39;00m))\n\u001b[0;32m    442\u001b[0m     \u001b[38;5;28;01mreturn\u001b[39;00m response\n",
      "File \u001b[1;32m~\\anaconda3\\lib\\site-packages\\selenium\\webdriver\\remote\\errorhandler.py:245\u001b[0m, in \u001b[0;36mErrorHandler.check_response\u001b[1;34m(self, response)\u001b[0m\n\u001b[0;32m    243\u001b[0m         alert_text \u001b[38;5;241m=\u001b[39m value[\u001b[38;5;124m\"\u001b[39m\u001b[38;5;124malert\u001b[39m\u001b[38;5;124m\"\u001b[39m]\u001b[38;5;241m.\u001b[39mget(\u001b[38;5;124m\"\u001b[39m\u001b[38;5;124mtext\u001b[39m\u001b[38;5;124m\"\u001b[39m)\n\u001b[0;32m    244\u001b[0m     \u001b[38;5;28;01mraise\u001b[39;00m exception_class(message, screen, stacktrace, alert_text)  \u001b[38;5;66;03m# type: ignore[call-arg]  # mypy is not smart enough here\u001b[39;00m\n\u001b[1;32m--> 245\u001b[0m \u001b[38;5;28;01mraise\u001b[39;00m exception_class(message, screen, stacktrace)\n",
      "\u001b[1;31mNoSuchElementException\u001b[0m: Message: no such element: Unable to locate element: {\"method\":\"xpath\",\"selector\":\"/html[1]/body[1]/div[2]/div[1]/main[1]/div[1]/div[1]/div[1]/article[1]/div[1]/div[1]/section[1]/div[1]/div[1]/div[1]/div[3]/div[1]/div[1]/a[1]\"}\n  (Session info: chrome=116.0.5845.111)\nStacktrace:\n\tGetHandleVerifier [0x00007FF759BB52A2+57122]\n\t(No symbol) [0x00007FF759B2EA92]\n\t(No symbol) [0x00007FF7599FE3AB]\n\t(No symbol) [0x00007FF759A37D3E]\n\t(No symbol) [0x00007FF759A37E2C]\n\t(No symbol) [0x00007FF759A70B67]\n\t(No symbol) [0x00007FF759A5701F]\n\t(No symbol) [0x00007FF759A6EB82]\n\t(No symbol) [0x00007FF759A56DB3]\n\t(No symbol) [0x00007FF759A2D2B1]\n\t(No symbol) [0x00007FF759A2E494]\n\tGetHandleVerifier [0x00007FF759E5EF82+2849794]\n\tGetHandleVerifier [0x00007FF759EB1D24+3189156]\n\tGetHandleVerifier [0x00007FF759EAACAF+3160367]\n\tGetHandleVerifier [0x00007FF759C46D06+653702]\n\t(No symbol) [0x00007FF759B3A208]\n\t(No symbol) [0x00007FF759B362C4]\n\t(No symbol) [0x00007FF759B363F6]\n\t(No symbol) [0x00007FF759B267A3]\n\tBaseThreadInitThunk [0x00007FF83D9B7614+20]\n\tRtlUserThreadStart [0x00007FF83DDA26B1+33]\n"
     ]
    }
   ],
   "source": [
    "def scriptt(url):\n",
    "    # Set up Chrome options\n",
    "    chrome_options = Options()\n",
    "    service = Service(executable_path='C:\\Program Files (x86)\\chromedriver.exe')\n",
    "    chrome_options.binary_location = 'C:\\Program Files\\Google\\Chrome\\Application\\chrome.exe'  # Specify the path to the Chrome browser executable if needed\n",
    "    #chrome_options.add_argument('--headless')  # Run Chrome in headless mode\n",
    "    print(url)\n",
    "    # Set up Chrome WebDriver with the local ChromeDriver executable\n",
    "    driver = webdriver.Chrome(options=chrome_options, service=service)\n",
    "    driver.get(url)\n",
    "    element = {'type': 'button', 'next': 'https://www.ip-label.fr/formulaire-contact-supervision-des-applications-metier', 'xPath': '/html[1]/body[1]/div[2]/div[1]/main[1]/div[1]/div[1]/div[1]/article[1]/div[1]/div[1]/section[1]/div[1]/div[1]/div[1]/div[3]/div[1]/div[1]/a[1]'}\n",
    "    elem = driver.find_element(By.XPATH, element[\"xPath\"])\n",
    "    \n",
    "    \n",
    "    \n",
    "scriptt('https://www.ip-label.fr/choix-action')"
   ]
  },
  {
   "cell_type": "code",
   "execution_count": null,
   "id": "d7b665c4",
   "metadata": {},
   "outputs": [],
   "source": []
  }
 ],
 "metadata": {
  "kernelspec": {
   "display_name": "Python 3 (ipykernel)",
   "language": "python",
   "name": "python3"
  },
  "language_info": {
   "codemirror_mode": {
    "name": "ipython",
    "version": 3
   },
   "file_extension": ".py",
   "mimetype": "text/x-python",
   "name": "python",
   "nbconvert_exporter": "python",
   "pygments_lexer": "ipython3",
   "version": "3.10.9"
  }
 },
 "nbformat": 4,
 "nbformat_minor": 5
}
