{
 "cells": [
  {
   "cell_type": "code",
   "execution_count": 1,
   "id": "5ceeaff9",
   "metadata": {
    "scrolled": true
   },
   "outputs": [
    {
     "name": "stdout",
     "output_type": "stream",
     "text": [
      "Current working directory: C:\\Users\\ASUS\\Documents\\Stage\n"
     ]
    }
   ],
   "source": [
    "from Env import Agent"
   ]
  },
  {
   "cell_type": "code",
   "execution_count": 4,
   "id": "7779e4f9",
   "metadata": {},
   "outputs": [
    {
     "ename": "ModuleNotFoundError",
     "evalue": "No module named 'RL_Agent'",
     "output_type": "error",
     "traceback": [
      "\u001b[1;31m---------------------------------------------------------------------------\u001b[0m",
      "\u001b[1;31mModuleNotFoundError\u001b[0m                       Traceback (most recent call last)",
      "Cell \u001b[1;32mIn[4], line 2\u001b[0m\n\u001b[0;32m      1\u001b[0m \u001b[38;5;28;01mimport\u001b[39;00m \u001b[38;5;21;01mnbimport\u001b[39;00m\n\u001b[1;32m----> 2\u001b[0m \u001b[38;5;28;01mimport\u001b[39;00m \u001b[38;5;21;01mRL_Agent\u001b[39;00m  \u001b[38;5;66;03m# Replace with the actual filename of the saved notebook\u001b[39;00m\n\u001b[0;32m      4\u001b[0m \u001b[38;5;28mprint\u001b[39m(RL_Agent\u001b[38;5;241m.\u001b[39mtabs)\n",
      "\u001b[1;31mModuleNotFoundError\u001b[0m: No module named 'RL_Agent'"
     ]
    }
   ],
   "source": [
    "import nbimport\n",
    "import RL_Agent  # Replace with the actual filename of the saved notebook\n",
    "\n",
    "print(RL_Agent.tabs)  # Use the output variable from the saved notebook"
   ]
  },
  {
   "cell_type": "code",
   "execution_count": null,
   "id": "786acdfc",
   "metadata": {},
   "outputs": [],
   "source": [
    "env = Agent(tabs,dic)"
   ]
  },
  {
   "cell_type": "code",
   "execution_count": null,
   "id": "23ff4bd0",
   "metadata": {},
   "outputs": [],
   "source": []
  }
 ],
 "metadata": {
  "kernelspec": {
   "display_name": "Python 3 (ipykernel)",
   "language": "python",
   "name": "python3"
  },
  "language_info": {
   "codemirror_mode": {
    "name": "ipython",
    "version": 3
   },
   "file_extension": ".py",
   "mimetype": "text/x-python",
   "name": "python",
   "nbconvert_exporter": "python",
   "pygments_lexer": "ipython3",
   "version": "3.10.9"
  }
 },
 "nbformat": 4,
 "nbformat_minor": 5
}
