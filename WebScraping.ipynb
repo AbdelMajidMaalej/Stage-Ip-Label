{
 "cells": [
  {
   "cell_type": "code",
   "execution_count": 2,
   "id": "d5bc7891",
   "metadata": {},
   "outputs": [],
   "source": [
    "from selenium import webdriver\n",
    "from selenium.webdriver.chrome.service import Service\n",
    "from selenium.webdriver.common.by import By\n",
    "from selenium.webdriver.support.ui import WebDriverWait\n",
    "from selenium.webdriver.support import expected_conditions as EC\n",
    "from bs4 import BeautifulSoup\n",
    "import codecs\n",
    "import re\n",
    "from webdriver_manager.chrome import ChromeDriverManager"
   ]
  },
  {
   "cell_type": "code",
   "execution_count": 3,
   "id": "3bb1c2d7",
   "metadata": {},
   "outputs": [
    {
     "ename": "ValueError",
     "evalue": "There is no such driver by url https://chromedriver.storage.googleapis.com/LATEST_RELEASE_115.0.5790",
     "output_type": "error",
     "traceback": [
      "\u001b[1;31m---------------------------------------------------------------------------\u001b[0m",
      "\u001b[1;31mValueError\u001b[0m                                Traceback (most recent call last)",
      "Cell \u001b[1;32mIn[3], line 1\u001b[0m\n\u001b[1;32m----> 1\u001b[0m driver\u001b[38;5;241m=\u001b[39mwebdriver\u001b[38;5;241m.\u001b[39mChrome(service\u001b[38;5;241m=\u001b[39mService(\u001b[43mChromeDriverManager\u001b[49m\u001b[43m(\u001b[49m\u001b[43m)\u001b[49m\u001b[38;5;241;43m.\u001b[39;49m\u001b[43minstall\u001b[49m\u001b[43m(\u001b[49m\u001b[43m)\u001b[49m))\n",
      "File \u001b[1;32m~\\anaconda3\\lib\\site-packages\\webdriver_manager\\chrome.py:39\u001b[0m, in \u001b[0;36mChromeDriverManager.install\u001b[1;34m(self)\u001b[0m\n\u001b[0;32m     38\u001b[0m \u001b[38;5;28;01mdef\u001b[39;00m \u001b[38;5;21minstall\u001b[39m(\u001b[38;5;28mself\u001b[39m) \u001b[38;5;241m-\u001b[39m\u001b[38;5;241m>\u001b[39m \u001b[38;5;28mstr\u001b[39m:\n\u001b[1;32m---> 39\u001b[0m     driver_path \u001b[38;5;241m=\u001b[39m \u001b[38;5;28;43mself\u001b[39;49m\u001b[38;5;241;43m.\u001b[39;49m\u001b[43m_get_driver_path\u001b[49m\u001b[43m(\u001b[49m\u001b[38;5;28;43mself\u001b[39;49m\u001b[38;5;241;43m.\u001b[39;49m\u001b[43mdriver\u001b[49m\u001b[43m)\u001b[49m\n\u001b[0;32m     40\u001b[0m     os\u001b[38;5;241m.\u001b[39mchmod(driver_path, \u001b[38;5;241m0o755\u001b[39m)\n\u001b[0;32m     41\u001b[0m     \u001b[38;5;28;01mreturn\u001b[39;00m driver_path\n",
      "File \u001b[1;32m~\\anaconda3\\lib\\site-packages\\webdriver_manager\\core\\manager.py:30\u001b[0m, in \u001b[0;36mDriverManager._get_driver_path\u001b[1;34m(self, driver)\u001b[0m\n\u001b[0;32m     27\u001b[0m \u001b[38;5;28;01mif\u001b[39;00m binary_path:\n\u001b[0;32m     28\u001b[0m     \u001b[38;5;28;01mreturn\u001b[39;00m binary_path\n\u001b[1;32m---> 30\u001b[0m file \u001b[38;5;241m=\u001b[39m \u001b[38;5;28mself\u001b[39m\u001b[38;5;241m.\u001b[39m_download_manager\u001b[38;5;241m.\u001b[39mdownload_file(\u001b[43mdriver\u001b[49m\u001b[38;5;241;43m.\u001b[39;49m\u001b[43mget_driver_download_url\u001b[49m\u001b[43m(\u001b[49m\u001b[43m)\u001b[49m)\n\u001b[0;32m     31\u001b[0m binary_path \u001b[38;5;241m=\u001b[39m \u001b[38;5;28mself\u001b[39m\u001b[38;5;241m.\u001b[39mdriver_cache\u001b[38;5;241m.\u001b[39msave_file_to_cache(driver, file)\n\u001b[0;32m     32\u001b[0m \u001b[38;5;28;01mreturn\u001b[39;00m binary_path\n",
      "File \u001b[1;32m~\\anaconda3\\lib\\site-packages\\webdriver_manager\\drivers\\chrome.py:40\u001b[0m, in \u001b[0;36mChromeDriver.get_driver_download_url\u001b[1;34m(self)\u001b[0m\n\u001b[0;32m     39\u001b[0m \u001b[38;5;28;01mdef\u001b[39;00m \u001b[38;5;21mget_driver_download_url\u001b[39m(\u001b[38;5;28mself\u001b[39m):\n\u001b[1;32m---> 40\u001b[0m     driver_version_to_download \u001b[38;5;241m=\u001b[39m \u001b[38;5;28;43mself\u001b[39;49m\u001b[38;5;241;43m.\u001b[39;49m\u001b[43mget_driver_version_to_download\u001b[49m\u001b[43m(\u001b[49m\u001b[43m)\u001b[49m\n\u001b[0;32m     41\u001b[0m     os_type \u001b[38;5;241m=\u001b[39m \u001b[38;5;28mself\u001b[39m\u001b[38;5;241m.\u001b[39m_os_type\n\u001b[0;32m     42\u001b[0m     \u001b[38;5;66;03m# For Mac ARM CPUs after version 106.0.5249.61 the format of OS type changed\u001b[39;00m\n\u001b[0;32m     43\u001b[0m     \u001b[38;5;66;03m# to more unified \"mac_arm64\". For newer versions, it'll be \"mac_arm64\"\u001b[39;00m\n\u001b[0;32m     44\u001b[0m     \u001b[38;5;66;03m# by default, for lower versions we replace \"mac_arm64\" to old format - \"mac64_m1\".\u001b[39;00m\n",
      "File \u001b[1;32m~\\anaconda3\\lib\\site-packages\\webdriver_manager\\core\\driver.py:51\u001b[0m, in \u001b[0;36mDriver.get_driver_version_to_download\u001b[1;34m(self)\u001b[0m\n\u001b[0;32m     45\u001b[0m \u001b[38;5;124;03m\"\"\"\u001b[39;00m\n\u001b[0;32m     46\u001b[0m \u001b[38;5;124;03mDownloads version from parameter if version not None or \"latest\".\u001b[39;00m\n\u001b[0;32m     47\u001b[0m \u001b[38;5;124;03mDownloads latest, if version is \"latest\" or browser could not been determined.\u001b[39;00m\n\u001b[0;32m     48\u001b[0m \u001b[38;5;124;03mDownloads determined browser version driver in all other ways as a bonus fallback for lazy users.\u001b[39;00m\n\u001b[0;32m     49\u001b[0m \u001b[38;5;124;03m\"\"\"\u001b[39;00m\n\u001b[0;32m     50\u001b[0m \u001b[38;5;28;01mif\u001b[39;00m \u001b[38;5;129;01mnot\u001b[39;00m \u001b[38;5;28mself\u001b[39m\u001b[38;5;241m.\u001b[39m_driver_to_download_version:\n\u001b[1;32m---> 51\u001b[0m     \u001b[38;5;28mself\u001b[39m\u001b[38;5;241m.\u001b[39m_driver_to_download_version \u001b[38;5;241m=\u001b[39m \u001b[38;5;28mself\u001b[39m\u001b[38;5;241m.\u001b[39m_version \u001b[38;5;28;01mif\u001b[39;00m \u001b[38;5;28mself\u001b[39m\u001b[38;5;241m.\u001b[39m_version \u001b[38;5;129;01mnot\u001b[39;00m \u001b[38;5;129;01min\u001b[39;00m (\u001b[38;5;28;01mNone\u001b[39;00m, \u001b[38;5;124m\"\u001b[39m\u001b[38;5;124mlatest\u001b[39m\u001b[38;5;124m\"\u001b[39m) \u001b[38;5;28;01melse\u001b[39;00m \u001b[38;5;28;43mself\u001b[39;49m\u001b[38;5;241;43m.\u001b[39;49m\u001b[43mget_latest_release_version\u001b[49m\u001b[43m(\u001b[49m\u001b[43m)\u001b[49m\n\u001b[0;32m     52\u001b[0m \u001b[38;5;28;01mreturn\u001b[39;00m \u001b[38;5;28mself\u001b[39m\u001b[38;5;241m.\u001b[39m_driver_to_download_version\n",
      "File \u001b[1;32m~\\anaconda3\\lib\\site-packages\\webdriver_manager\\drivers\\chrome.py:62\u001b[0m, in \u001b[0;36mChromeDriver.get_latest_release_version\u001b[1;34m(self)\u001b[0m\n\u001b[0;32m     56\u001b[0m log(\u001b[38;5;124mf\u001b[39m\u001b[38;5;124m\"\u001b[39m\u001b[38;5;124mGet LATEST \u001b[39m\u001b[38;5;132;01m{\u001b[39;00m\u001b[38;5;28mself\u001b[39m\u001b[38;5;241m.\u001b[39m_name\u001b[38;5;132;01m}\u001b[39;00m\u001b[38;5;124m version for \u001b[39m\u001b[38;5;132;01m{\u001b[39;00m\u001b[38;5;28mself\u001b[39m\u001b[38;5;241m.\u001b[39m_browser_type\u001b[38;5;132;01m}\u001b[39;00m\u001b[38;5;124m\"\u001b[39m)\n\u001b[0;32m     57\u001b[0m latest_release_url \u001b[38;5;241m=\u001b[39m (\n\u001b[0;32m     58\u001b[0m     \u001b[38;5;28mself\u001b[39m\u001b[38;5;241m.\u001b[39m_latest_release_url\n\u001b[0;32m     59\u001b[0m     \u001b[38;5;28;01mif\u001b[39;00m (\u001b[38;5;28mself\u001b[39m\u001b[38;5;241m.\u001b[39m_version \u001b[38;5;241m==\u001b[39m \u001b[38;5;124m\"\u001b[39m\u001b[38;5;124mlatest\u001b[39m\u001b[38;5;124m\"\u001b[39m \u001b[38;5;129;01mor\u001b[39;00m determined_browser_version \u001b[38;5;129;01mis\u001b[39;00m \u001b[38;5;28;01mNone\u001b[39;00m)\n\u001b[0;32m     60\u001b[0m     \u001b[38;5;28;01melse\u001b[39;00m \u001b[38;5;124mf\u001b[39m\u001b[38;5;124m\"\u001b[39m\u001b[38;5;132;01m{\u001b[39;00m\u001b[38;5;28mself\u001b[39m\u001b[38;5;241m.\u001b[39m_latest_release_url\u001b[38;5;132;01m}\u001b[39;00m\u001b[38;5;124m_\u001b[39m\u001b[38;5;132;01m{\u001b[39;00mdetermined_browser_version\u001b[38;5;132;01m}\u001b[39;00m\u001b[38;5;124m\"\u001b[39m\n\u001b[0;32m     61\u001b[0m )\n\u001b[1;32m---> 62\u001b[0m resp \u001b[38;5;241m=\u001b[39m \u001b[38;5;28;43mself\u001b[39;49m\u001b[38;5;241;43m.\u001b[39;49m\u001b[43m_http_client\u001b[49m\u001b[38;5;241;43m.\u001b[39;49m\u001b[43mget\u001b[49m\u001b[43m(\u001b[49m\u001b[43murl\u001b[49m\u001b[38;5;241;43m=\u001b[39;49m\u001b[43mlatest_release_url\u001b[49m\u001b[43m)\u001b[49m\n\u001b[0;32m     63\u001b[0m \u001b[38;5;28;01mreturn\u001b[39;00m resp\u001b[38;5;241m.\u001b[39mtext\u001b[38;5;241m.\u001b[39mrstrip()\n",
      "File \u001b[1;32m~\\anaconda3\\lib\\site-packages\\webdriver_manager\\core\\http.py:37\u001b[0m, in \u001b[0;36mWDMHttpClient.get\u001b[1;34m(self, url, **kwargs)\u001b[0m\n\u001b[0;32m     35\u001b[0m \u001b[38;5;28;01mexcept\u001b[39;00m exceptions\u001b[38;5;241m.\u001b[39mConnectionError:\n\u001b[0;32m     36\u001b[0m     \u001b[38;5;28;01mraise\u001b[39;00m \u001b[38;5;167;01mConnectionError\u001b[39;00m(\u001b[38;5;124mf\u001b[39m\u001b[38;5;124m\"\u001b[39m\u001b[38;5;124mCould not reach host. Are you offline?\u001b[39m\u001b[38;5;124m\"\u001b[39m)\n\u001b[1;32m---> 37\u001b[0m \u001b[38;5;28;43mself\u001b[39;49m\u001b[38;5;241;43m.\u001b[39;49m\u001b[43mvalidate_response\u001b[49m\u001b[43m(\u001b[49m\u001b[43mresp\u001b[49m\u001b[43m)\u001b[49m\n\u001b[0;32m     38\u001b[0m \u001b[38;5;28;01mif\u001b[39;00m wdm_progress_bar():\n\u001b[0;32m     39\u001b[0m     show_download_progress(resp)\n",
      "File \u001b[1;32m~\\anaconda3\\lib\\site-packages\\webdriver_manager\\core\\http.py:16\u001b[0m, in \u001b[0;36mHttpClient.validate_response\u001b[1;34m(resp)\u001b[0m\n\u001b[0;32m     14\u001b[0m status_code \u001b[38;5;241m=\u001b[39m resp\u001b[38;5;241m.\u001b[39mstatus_code\n\u001b[0;32m     15\u001b[0m \u001b[38;5;28;01mif\u001b[39;00m status_code \u001b[38;5;241m==\u001b[39m \u001b[38;5;241m404\u001b[39m:\n\u001b[1;32m---> 16\u001b[0m     \u001b[38;5;28;01mraise\u001b[39;00m \u001b[38;5;167;01mValueError\u001b[39;00m(\u001b[38;5;124mf\u001b[39m\u001b[38;5;124m\"\u001b[39m\u001b[38;5;124mThere is no such driver by url \u001b[39m\u001b[38;5;132;01m{\u001b[39;00mresp\u001b[38;5;241m.\u001b[39murl\u001b[38;5;132;01m}\u001b[39;00m\u001b[38;5;124m\"\u001b[39m)\n\u001b[0;32m     17\u001b[0m \u001b[38;5;28;01melif\u001b[39;00m status_code \u001b[38;5;241m==\u001b[39m \u001b[38;5;241m401\u001b[39m:\n\u001b[0;32m     18\u001b[0m     \u001b[38;5;28;01mraise\u001b[39;00m \u001b[38;5;167;01mValueError\u001b[39;00m(\u001b[38;5;124mf\u001b[39m\u001b[38;5;124m\"\u001b[39m\u001b[38;5;124mAPI Rate limit exceeded. You have to add GH_TOKEN!!!\u001b[39m\u001b[38;5;124m\"\u001b[39m)\n",
      "\u001b[1;31mValueError\u001b[0m: There is no such driver by url https://chromedriver.storage.googleapis.com/LATEST_RELEASE_115.0.5790"
     ]
    }
   ],
   "source": [
    "driver=webdriver.Chrome(service=Service(ChromeDriverManager().install()))"
   ]
  },
  {
   "cell_type": "code",
   "execution_count": null,
   "id": "821857b0",
   "metadata": {},
   "outputs": [],
   "source": [
    "driver.get(\"https://www.ip-label.fr/\")\n",
    "print(driver)"
   ]
  },
  {
   "cell_type": "code",
   "execution_count": 1,
   "id": "d87b6748",
   "metadata": {},
   "outputs": [
    {
     "ename": "NameError",
     "evalue": "name 'driver' is not defined",
     "output_type": "error",
     "traceback": [
      "\u001b[1;31m---------------------------------------------------------------------------\u001b[0m",
      "\u001b[1;31mNameError\u001b[0m                                 Traceback (most recent call last)",
      "Cell \u001b[1;32mIn[1], line 2\u001b[0m\n\u001b[0;32m      1\u001b[0m \u001b[38;5;66;03m# Extract all URLs and navigation data\u001b[39;00m\n\u001b[1;32m----> 2\u001b[0m input_elements_not_in_form \u001b[38;5;241m=\u001b[39m \u001b[43mdriver\u001b[49m\u001b[38;5;241m.\u001b[39mfind_elements_by_xpath(\u001b[38;5;124m\"\u001b[39m\u001b[38;5;124m//input[not(ancestor::form)]\u001b[39m\u001b[38;5;124m\"\u001b[39m)\n\u001b[0;32m      3\u001b[0m \u001b[38;5;28mprint\u001b[39m(input_elements_not_in_form)\n\u001b[0;32m      5\u001b[0m urls \u001b[38;5;241m=\u001b[39m [{element\u001b[38;5;241m.\u001b[39mtext,element\u001b[38;5;241m.\u001b[39mget_attribute(\u001b[38;5;124m'\u001b[39m\u001b[38;5;124mhref\u001b[39m\u001b[38;5;124m'\u001b[39m)} \u001b[38;5;28;01mfor\u001b[39;00m element \u001b[38;5;129;01min\u001b[39;00m anchor_elements]\n",
      "\u001b[1;31mNameError\u001b[0m: name 'driver' is not defined"
     ]
    }
   ],
   "source": [
    "# Extract all URLs and navigation data\n",
    "\n",
    "\n",
    "urls = [{element.text,element.get_attribute('href')} for element in anchor_elements]\n",
    "print(urls)\n",
    "\n",
    "def is_element_visible(element):\n",
    "    return element.value_of_css_property('display') != 'none'\n",
    "\n",
    "# Find and extract elements from the UI\n",
    "elements = anchor_elements = driver.find_elements(By.TAG_NAME, 'a')\n",
    "\n",
    "# Filter out elements that are not visible\n",
    "visible_elements = [{element.text,element.get_attribute('href')} for element in elements if is_element_visible(element)]\n"
   ]
  },
  {
   "cell_type": "code",
   "execution_count": 11,
   "id": "877755ca",
   "metadata": {},
   "outputs": [
    {
     "name": "stdout",
     "output_type": "stream",
     "text": [
      "[<selenium.webdriver.remote.webelement.WebElement (session=\"c3cf88aa80410259311c6cbc41cfe7c6\", element=\"340674BDADEFC621CE84B81AEF82BE99_element_142\")>, <selenium.webdriver.remote.webelement.WebElement (session=\"c3cf88aa80410259311c6cbc41cfe7c6\", element=\"340674BDADEFC621CE84B81AEF82BE99_element_143\")>]\n"
     ]
    },
    {
     "ename": "ElementNotInteractableException",
     "evalue": "Message: element not interactable\n  (Session info: chrome=114.0.5735.248)\nStacktrace:\nBacktrace:\n\tGetHandleVerifier [0x0097A813+48355]\n\t(No symbol) [0x0090C4B1]\n\t(No symbol) [0x00815220]\n\t(No symbol) [0x0083D046]\n\t(No symbol) [0x0083C8B1]\n\t(No symbol) [0x0085A73C]\n\t(No symbol) [0x00839A36]\n\t(No symbol) [0x0085AA94]\n\t(No symbol) [0x0086C922]\n\t(No symbol) [0x0085A536]\n\t(No symbol) [0x008382DC]\n\t(No symbol) [0x008393DD]\n\tGetHandleVerifier [0x00BDAABD+2539405]\n\tGetHandleVerifier [0x00C1A78F+2800735]\n\tGetHandleVerifier [0x00C1456C+2775612]\n\tGetHandleVerifier [0x00A051E0+616112]\n\t(No symbol) [0x00915F8C]\n\t(No symbol) [0x00912328]\n\t(No symbol) [0x0091240B]\n\t(No symbol) [0x00904FF7]\n\tBaseThreadInitThunk [0x759400C9+25]\n\tRtlGetAppContainerNamedObjectPath [0x77027B1E+286]\n\tRtlGetAppContainerNamedObjectPath [0x77027AEE+238]\n",
     "output_type": "error",
     "traceback": [
      "\u001b[1;31m---------------------------------------------------------------------------\u001b[0m",
      "\u001b[1;31mElementNotInteractableException\u001b[0m           Traceback (most recent call last)",
      "Cell \u001b[1;32mIn[11], line 11\u001b[0m\n\u001b[0;32m      9\u001b[0m \u001b[38;5;28mprint\u001b[39m(visible_elements)\n\u001b[0;32m     10\u001b[0m text_to_write \u001b[38;5;241m=\u001b[39m \u001b[38;5;124m\"\u001b[39m\u001b[38;5;124mHello\u001b[39m\u001b[38;5;124m\"\u001b[39m\n\u001b[1;32m---> 11\u001b[0m \u001b[43mvisible_elements\u001b[49m\u001b[43m[\u001b[49m\u001b[38;5;241;43m1\u001b[39;49m\u001b[43m]\u001b[49m\u001b[38;5;241;43m.\u001b[39;49m\u001b[43msend_keys\u001b[49m\u001b[43m(\u001b[49m\u001b[43mtext_to_write\u001b[49m\u001b[43m)\u001b[49m\n",
      "File \u001b[1;32m~\\anaconda3\\lib\\site-packages\\selenium\\webdriver\\remote\\webelement.py:231\u001b[0m, in \u001b[0;36mWebElement.send_keys\u001b[1;34m(self, *value)\u001b[0m\n\u001b[0;32m    228\u001b[0m             remote_files\u001b[38;5;241m.\u001b[39mappend(\u001b[38;5;28mself\u001b[39m\u001b[38;5;241m.\u001b[39m_upload(file))\n\u001b[0;32m    229\u001b[0m         value \u001b[38;5;241m=\u001b[39m \u001b[38;5;124m\"\u001b[39m\u001b[38;5;130;01m\\n\u001b[39;00m\u001b[38;5;124m\"\u001b[39m\u001b[38;5;241m.\u001b[39mjoin(remote_files)\n\u001b[1;32m--> 231\u001b[0m \u001b[38;5;28;43mself\u001b[39;49m\u001b[38;5;241;43m.\u001b[39;49m\u001b[43m_execute\u001b[49m\u001b[43m(\u001b[49m\n\u001b[0;32m    232\u001b[0m \u001b[43m    \u001b[49m\u001b[43mCommand\u001b[49m\u001b[38;5;241;43m.\u001b[39;49m\u001b[43mSEND_KEYS_TO_ELEMENT\u001b[49m\u001b[43m,\u001b[49m\u001b[43m \u001b[49m\u001b[43m{\u001b[49m\u001b[38;5;124;43m\"\u001b[39;49m\u001b[38;5;124;43mtext\u001b[39;49m\u001b[38;5;124;43m\"\u001b[39;49m\u001b[43m:\u001b[49m\u001b[43m \u001b[49m\u001b[38;5;124;43m\"\u001b[39;49m\u001b[38;5;124;43m\"\u001b[39;49m\u001b[38;5;241;43m.\u001b[39;49m\u001b[43mjoin\u001b[49m\u001b[43m(\u001b[49m\u001b[43mkeys_to_typing\u001b[49m\u001b[43m(\u001b[49m\u001b[43mvalue\u001b[49m\u001b[43m)\u001b[49m\u001b[43m)\u001b[49m\u001b[43m,\u001b[49m\u001b[43m \u001b[49m\u001b[38;5;124;43m\"\u001b[39;49m\u001b[38;5;124;43mvalue\u001b[39;49m\u001b[38;5;124;43m\"\u001b[39;49m\u001b[43m:\u001b[49m\u001b[43m \u001b[49m\u001b[43mkeys_to_typing\u001b[49m\u001b[43m(\u001b[49m\u001b[43mvalue\u001b[49m\u001b[43m)\u001b[49m\u001b[43m}\u001b[49m\n\u001b[0;32m    233\u001b[0m \u001b[43m\u001b[49m\u001b[43m)\u001b[49m\n",
      "File \u001b[1;32m~\\anaconda3\\lib\\site-packages\\selenium\\webdriver\\remote\\webelement.py:395\u001b[0m, in \u001b[0;36mWebElement._execute\u001b[1;34m(self, command, params)\u001b[0m\n\u001b[0;32m    393\u001b[0m     params \u001b[38;5;241m=\u001b[39m {}\n\u001b[0;32m    394\u001b[0m params[\u001b[38;5;124m\"\u001b[39m\u001b[38;5;124mid\u001b[39m\u001b[38;5;124m\"\u001b[39m] \u001b[38;5;241m=\u001b[39m \u001b[38;5;28mself\u001b[39m\u001b[38;5;241m.\u001b[39m_id\n\u001b[1;32m--> 395\u001b[0m \u001b[38;5;28;01mreturn\u001b[39;00m \u001b[38;5;28;43mself\u001b[39;49m\u001b[38;5;241;43m.\u001b[39;49m\u001b[43m_parent\u001b[49m\u001b[38;5;241;43m.\u001b[39;49m\u001b[43mexecute\u001b[49m\u001b[43m(\u001b[49m\u001b[43mcommand\u001b[49m\u001b[43m,\u001b[49m\u001b[43m \u001b[49m\u001b[43mparams\u001b[49m\u001b[43m)\u001b[49m\n",
      "File \u001b[1;32m~\\anaconda3\\lib\\site-packages\\selenium\\webdriver\\remote\\webdriver.py:346\u001b[0m, in \u001b[0;36mWebDriver.execute\u001b[1;34m(self, driver_command, params)\u001b[0m\n\u001b[0;32m    344\u001b[0m response \u001b[38;5;241m=\u001b[39m \u001b[38;5;28mself\u001b[39m\u001b[38;5;241m.\u001b[39mcommand_executor\u001b[38;5;241m.\u001b[39mexecute(driver_command, params)\n\u001b[0;32m    345\u001b[0m \u001b[38;5;28;01mif\u001b[39;00m response:\n\u001b[1;32m--> 346\u001b[0m     \u001b[38;5;28;43mself\u001b[39;49m\u001b[38;5;241;43m.\u001b[39;49m\u001b[43merror_handler\u001b[49m\u001b[38;5;241;43m.\u001b[39;49m\u001b[43mcheck_response\u001b[49m\u001b[43m(\u001b[49m\u001b[43mresponse\u001b[49m\u001b[43m)\u001b[49m\n\u001b[0;32m    347\u001b[0m     response[\u001b[38;5;124m\"\u001b[39m\u001b[38;5;124mvalue\u001b[39m\u001b[38;5;124m\"\u001b[39m] \u001b[38;5;241m=\u001b[39m \u001b[38;5;28mself\u001b[39m\u001b[38;5;241m.\u001b[39m_unwrap_value(response\u001b[38;5;241m.\u001b[39mget(\u001b[38;5;124m\"\u001b[39m\u001b[38;5;124mvalue\u001b[39m\u001b[38;5;124m\"\u001b[39m, \u001b[38;5;28;01mNone\u001b[39;00m))\n\u001b[0;32m    348\u001b[0m     \u001b[38;5;28;01mreturn\u001b[39;00m response\n",
      "File \u001b[1;32m~\\anaconda3\\lib\\site-packages\\selenium\\webdriver\\remote\\errorhandler.py:245\u001b[0m, in \u001b[0;36mErrorHandler.check_response\u001b[1;34m(self, response)\u001b[0m\n\u001b[0;32m    243\u001b[0m         alert_text \u001b[38;5;241m=\u001b[39m value[\u001b[38;5;124m\"\u001b[39m\u001b[38;5;124malert\u001b[39m\u001b[38;5;124m\"\u001b[39m]\u001b[38;5;241m.\u001b[39mget(\u001b[38;5;124m\"\u001b[39m\u001b[38;5;124mtext\u001b[39m\u001b[38;5;124m\"\u001b[39m)\n\u001b[0;32m    244\u001b[0m     \u001b[38;5;28;01mraise\u001b[39;00m exception_class(message, screen, stacktrace, alert_text)  \u001b[38;5;66;03m# type: ignore[call-arg]  # mypy is not smart enough here\u001b[39;00m\n\u001b[1;32m--> 245\u001b[0m \u001b[38;5;28;01mraise\u001b[39;00m exception_class(message, screen, stacktrace)\n",
      "\u001b[1;31mElementNotInteractableException\u001b[0m: Message: element not interactable\n  (Session info: chrome=114.0.5735.248)\nStacktrace:\nBacktrace:\n\tGetHandleVerifier [0x0097A813+48355]\n\t(No symbol) [0x0090C4B1]\n\t(No symbol) [0x00815220]\n\t(No symbol) [0x0083D046]\n\t(No symbol) [0x0083C8B1]\n\t(No symbol) [0x0085A73C]\n\t(No symbol) [0x00839A36]\n\t(No symbol) [0x0085AA94]\n\t(No symbol) [0x0086C922]\n\t(No symbol) [0x0085A536]\n\t(No symbol) [0x008382DC]\n\t(No symbol) [0x008393DD]\n\tGetHandleVerifier [0x00BDAABD+2539405]\n\tGetHandleVerifier [0x00C1A78F+2800735]\n\tGetHandleVerifier [0x00C1456C+2775612]\n\tGetHandleVerifier [0x00A051E0+616112]\n\t(No symbol) [0x00915F8C]\n\t(No symbol) [0x00912328]\n\t(No symbol) [0x0091240B]\n\t(No symbol) [0x00904FF7]\n\tBaseThreadInitThunk [0x759400C9+25]\n\tRtlGetAppContainerNamedObjectPath [0x77027B1E+286]\n\tRtlGetAppContainerNamedObjectPath [0x77027AEE+238]\n"
     ]
    }
   ],
   "source": [
    "\n",
    "def is_element_visible(element):\n",
    "    return element.value_of_css_property('display') != 'none'\n",
    "\n",
    "# Find and extract elements from the UI\n",
    "elements = driver.find_elements(By.CSS_SELECTOR, \"input[type='search']\")\n",
    "\n",
    "# Filter out elements that are not visible\n",
    "visible_elements = [element for element in elements if is_element_visible(element)]\n",
    "print(visible_elements)\n",
    "text_to_write = \"Hello\"\n",
    "visible_elements[1].send_keys(text_to_write)"
   ]
  },
  {
   "cell_type": "code",
   "execution_count": 16,
   "id": "213dcc45",
   "metadata": {},
   "outputs": [
    {
     "name": "stdout",
     "output_type": "stream",
     "text": [
      "[<selenium.webdriver.remote.webelement.WebElement (session=\"c3cf88aa80410259311c6cbc41cfe7c6\", element=\"5C8E90E7F1D557C1B760945DF69E14B1_element_483\")>, <selenium.webdriver.remote.webelement.WebElement (session=\"c3cf88aa80410259311c6cbc41cfe7c6\", element=\"5C8E90E7F1D557C1B760945DF69E14B1_element_484\")>]\n",
      "<selenium.webdriver.remote.webelement.WebElement (session=\"c3cf88aa80410259311c6cbc41cfe7c6\", element=\"5C8E90E7F1D557C1B760945DF69E14B1_element_485\")>\n",
      "True.\n"
     ]
    }
   ],
   "source": [
    "import time\n",
    "input_elements = driver.find_elements(By.CSS_SELECTOR, \"input[type='search']\")\n",
    "print(input_elements)\n",
    "text = driver.find_element(By.CSS_SELECTOR, \".site-search-toggle\")\n",
    "print(text)\n",
    "text.click()\n",
    "input_element = driver.find_element(By.CSS_SELECTOR, \"input[type='search']\")\n",
    "time.sleep(5)\n",
    "input_element.submit()\n",
    "if isinstance(input_element, webdriver.remote.webelement.WebElement):\n",
    "    print(\"True.\")"
   ]
  },
  {
   "cell_type": "code",
   "execution_count": null,
   "id": "a0b1b24f",
   "metadata": {},
   "outputs": [],
   "source": [
    "from collections import deque\n",
    "scenarios = deque()"
   ]
  },
  {
   "cell_type": "code",
   "execution_count": null,
   "id": "57419cfc",
   "metadata": {},
   "outputs": [],
   "source": [
    "# Extract the meta description\n",
    "meta_description = driver.find_element(driver.CSS_SELECTOR, \"meta[name='generator']\").get_attribute(\"content\")\n",
    "print(\"Meta Description:\", meta_description)\n",
    "\n",
    "# Extract other metadata attributes\n",
    "meta_keywords = driver.find_element(driver.CSS_SELECTOR, \"meta[name='keywords']\").get_attribute(\"content\")\n",
    "print(\"Meta Keywords:\", meta_keywords)"
   ]
  },
  {
   "cell_type": "code",
   "execution_count": null,
   "id": "dca31a64",
   "metadata": {},
   "outputs": [],
   "source": [
    "# Find the <head> element\n",
    "head_element = driver.find_element(By.TAG_NAME, \"head\")\n",
    "\n",
    "head_element = head_element.find_elements(By.TAG_NAME, \"meta\")\n",
    "\n",
    "# Extract the contents of the <head> tag\n",
    "for i in head_element:\n",
    "    print(i.get_attribute(\"content\"))"
   ]
  },
  {
   "cell_type": "code",
   "execution_count": null,
   "id": "370b3052",
   "metadata": {},
   "outputs": [],
   "source": [
    "try:\n",
    "    head_element = driver.find_element(By.TAG_NAME, \"head\")\n",
    "    generator_list = head_element.find_elements(By.CSS_SELECTOR, \"meta[name=generator]\")\n",
    "    for generator in generator_list:\n",
    "        print(generator.get_attribute(\"content\"))\n",
    "except NoSuchElementException:\n",
    "    print(\"The 'generator' meta elements were not found on the page.\")"
   ]
  },
  {
   "cell_type": "code",
   "execution_count": null,
   "id": "5392dd44",
   "metadata": {},
   "outputs": [],
   "source": [
    "# Find the <head> element\n",
    "head_element = driver.find_element(By.TAG_NAME, \"head\")\n",
    "\n",
    "# Extract the contents of the <head> tag\n",
    "print(head_element.get_attribute(\"innerHTML\"))"
   ]
  },
  {
   "cell_type": "code",
   "execution_count": 12,
   "id": "fd3f9ea7",
   "metadata": {},
   "outputs": [
    {
     "name": "stdout",
     "output_type": "stream",
     "text": [
      "<selenium.webdriver.remote.webelement.WebElement (session=\"a073fdf9d1f30b8aa5d7cb61e50711d0\", element=\"C99A0D9E73CAEBB504C722DB3C30F23C_element_146\")>\n",
      "[<selenium.webdriver.remote.webelement.WebElement (session=\"a073fdf9d1f30b8aa5d7cb61e50711d0\", element=\"C99A0D9E73CAEBB504C722DB3C30F23C_element_302\")>, <selenium.webdriver.remote.webelement.WebElement (session=\"a073fdf9d1f30b8aa5d7cb61e50711d0\", element=\"C99A0D9E73CAEBB504C722DB3C30F23C_element_303\")>, <selenium.webdriver.remote.webelement.WebElement (session=\"a073fdf9d1f30b8aa5d7cb61e50711d0\", element=\"C99A0D9E73CAEBB504C722DB3C30F23C_element_304\")>]\n",
      "WordPress 6.1.1\n",
      "Site Kit by Google 1.103.0\n",
      "Elementor 3.14.1; features: e_dom_optimization, e_optimized_assets_loading, e_optimized_css_loading, a11y_improvements, additional_custom_breakpoints; settings: css_print_method-external, google_font-enabled, font_display-swap\n"
     ]
    }
   ],
   "source": [
    "head_element = driver.find_element(By.TAG_NAME, \"head\")\n",
    "print(head_element)\n",
    "generator_list = head_element.find_elements(By.CSS_SELECTOR, \"meta[name=generator]\")\n",
    "print(generator_list)\n",
    "for generator in generator_list:\n",
    "        print(generator.get_attribute(\"content\"))"
   ]
  },
  {
   "cell_type": "code",
   "execution_count": null,
   "id": "06d534db",
   "metadata": {},
   "outputs": [],
   "source": [
    "import requests\n",
    "\n",
    "# Replace \"YOUR_API_KEY\" with your actual BuiltWith API key\n",
    "api_key = \"1ce5f066-e869-4478-99a4-0f6edcdef937\"\n",
    "\n",
    "# Replace \"https://example.com\" with the website URL you want to analyze\n",
    "website_url = \"https://www.ip-label.fr/\"\n",
    "\n",
    "# Make a request to the BuiltWith API\n",
    "url = f\"https://api.builtwith.com/v21/api.json?KEY={api_key}&LOOKUP={website_url}\"\n",
    "response = requests.get(url)\n",
    "\n",
    "# Extract the technology information from the response\n",
    "data = response.json()\n",
    "print(data)\n",
    "technologies = data[\"Results\"]\n",
    "\n",
    "# Process and display the technology information\n",
    "for technology in technologies:\n",
    "    print(\"Technology:\", technology[\"Name\"])\n",
    "    print(\"Tag Categories:\", technology[\"TagCategories\"])\n",
    "    print(\"-----\")"
   ]
  },
  {
   "cell_type": "code",
   "execution_count": null,
   "id": "0f5b13db",
   "metadata": {},
   "outputs": [],
   "source": [
    "!pip install subprocess"
   ]
  },
  {
   "cell_type": "code",
   "execution_count": null,
   "id": "e082258c",
   "metadata": {},
   "outputs": [],
   "source": [
    "import subprocess\n",
    "\n",
    "def run_whatweb(url):\n",
    "    command = f\"whatweb {url}\"\n",
    "    process = subprocess.Popen(command, shell=True, stdout=subprocess.PIPE, stderr=subprocess.PIPE)\n",
    "    output, error = process.communicate()\n",
    "\n",
    "    if error:\n",
    "        print(f\"Error executing WhatWeb: {error.decode(errors='replace')}\")\n",
    "        return None\n",
    "\n",
    "    try:\n",
    "        decoded_output = output.decode('utf-8')\n",
    "    except UnicodeDecodeError:\n",
    "        decoded_output = output.decode('latin-1')\n",
    "\n",
    "    return decoded_output\n",
    "\n",
    "# Replace \"www.ip-label.fr/\" with the website URL you want to analyze\n",
    "website_url = \"www.ip-label.fr/\"\n",
    "\n",
    "# Run WhatWeb and capture the output\n",
    "whatweb_output = run_whatweb(website_url)\n",
    "\n",
    "# Print the output or process it further\n",
    "if whatweb_output:\n",
    "    print(whatweb_output)"
   ]
  },
  {
   "cell_type": "code",
   "execution_count": null,
   "id": "bee65b92",
   "metadata": {},
   "outputs": [],
   "source": [
    "import subprocess\n",
    "\n",
    "def run_whatweb(url):\n",
    "    command = f\"ruby ./WhatWeb/whatweb {url}\"\n",
    "    process = subprocess.Popen(command, shell=True, stdout=subprocess.PIPE, stderr=subprocess.PIPE)\n",
    "    output, error = process.communicate()\n",
    "\n",
    "    if error:\n",
    "        print(f\"Error executing WhatWeb: {error.decode()}\")\n",
    "        return None\n",
    "\n",
    "    return output.decode()\n",
    "\n",
    "# Replace \"https://www.example.com\" with the website URL you want to analyze\n",
    "website_url = \"www.ip-label.fr/\"\n",
    "\n",
    "# Run WhatWeb and capture the output\n",
    "whatweb_output = run_whatweb(website_url)\n",
    "\n",
    "# Print the output or process it further\n",
    "if whatweb_output:\n",
    "    print(whatweb_output)"
   ]
  },
  {
   "cell_type": "code",
   "execution_count": 2,
   "id": "4fe1f518",
   "metadata": {},
   "outputs": [
    {
     "name": "stdout",
     "output_type": "stream",
     "text": [
      "Error executing WhatWeb: 'ng' n'est pas reconnu en tant que commande interne\r\n",
      "ou externe, un programme ex�cutable ou un fichier de commandes.\r\n",
      "\n"
     ]
    }
   ],
   "source": [
    "import subprocess\n",
    "\n",
    "def run_whatweb(url): \n",
    "    command = f\"ruby ./WhatWeb/whatweb {url}\"\n",
    "    process = subprocess.Popen(command, shell=True, stdout=subprocess.PIPE, stderr=subprocess.PIPE)\n",
    "    output, error = process.communicate()\n",
    "\n",
    "    if error:\n",
    "        print(f\"Error executing WhatWeb: {error.decode(errors='replace')}\")\n",
    "        return None\n",
    "\n",
    "    try:\n",
    "        decoded_output = output.decode('utf-8')\n",
    "    except UnicodeDecodeError:\n",
    "        decoded_output = output.decode('latin-1')\n",
    "\n",
    "    return decoded_output\n",
    "\n",
    "# Replace \"www.ip-label.fr/\" with the website URL you want to analyze\n",
    "website_url = \"https://ecoles.omneseducation.com/demande-de-brochure-international/?esl-k=google-ads|ng|c593996308691|me|komnes%20education|p|t|dc|a136702807838|g16977465099&lead_source=SEA_google&c_last_source=SEA_google&utm_campaign=&gclid=CjwKCAjw_aemBhBLEiwAT98FMp7BGL75kU8yYykbIQfabnUtfvSL2yUmgkH79WmRXwFSfb15rGoxChoC4IUQAvD_BwE\"\n",
    "\n",
    "# Run WhatWeb and capture the output\n",
    "whatweb_output = run_whatweb(website_url)\n",
    "\n",
    "# Print the output or process it further\n",
    "if whatweb_output:\n",
    "    print(whatweb_output)"
   ]
  },
  {
   "cell_type": "code",
   "execution_count": null,
   "id": "62877830",
   "metadata": {},
   "outputs": [],
   "source": []
  }
 ],
 "metadata": {
  "kernelspec": {
   "display_name": "Python 3 (ipykernel)",
   "language": "python",
   "name": "python3"
  },
  "language_info": {
   "codemirror_mode": {
    "name": "ipython",
    "version": 3
   },
   "file_extension": ".py",
   "mimetype": "text/x-python",
   "name": "python",
   "nbconvert_exporter": "python",
   "pygments_lexer": "ipython3",
   "version": "3.10.9"
  }
 },
 "nbformat": 4,
 "nbformat_minor": 5
}
