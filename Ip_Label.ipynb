{
 "cells": [
  {
   "cell_type": "code",
   "execution_count": 5,
   "id": "feff50df",
   "metadata": {},
   "outputs": [],
   "source": [
    "from collections import deque\n",
    "from selenium import webdriver\n",
    "from selenium.webdriver.chrome.service import Service\n",
    "from selenium.webdriver.common.by import By\n",
    "from selenium.common.exceptions import ElementNotInteractableException\n",
    "from selenium.common.exceptions import StaleElementReferenceException\n",
    "from selenium.webdriver.support.ui import WebDriverWait\n",
    "from selenium.webdriver.support import expected_conditions as EC\n",
    "from bs4 import BeautifulSoup\n",
    "import codecs\n",
    "import re\n",
    "from webdriver_manager.chrome import ChromeDriverManager"
   ]
  },
  {
   "cell_type": "code",
   "execution_count": 6,
   "id": "07c9e99e",
   "metadata": {},
   "outputs": [],
   "source": [
    "from selenium.webdriver.chrome.options import Options\n",
    "\n",
    "# Set up Chrome options\n",
    "chrome_options = Options()\n",
    "service = Service(executable_path='C:\\Program Files (x86)\\chromedriver.exe')\n",
    "chrome_options.binary_location = 'C:\\Program Files\\Google\\Chrome\\Application\\chrome.exe'  # Specify the path to the Chrome browser executable if needed\n",
    "#chrome_options.add_argument('--headless')  # Run Chrome in headless mode\n",
    "\n",
    "# Set up Chrome WebDriver with the local ChromeDriver executable\n",
    "driver = webdriver.Chrome(options=chrome_options, service=service)\n",
    "\n",
    "driver.get(\"https://www.ip-label.fr/\")\n",
    "anchor_elements = driver.find_elements(By.CSS_SELECTOR, \"input[type='search']\")"
   ]
  },
  {
   "cell_type": "code",
   "execution_count": 15,
   "id": "c854846b",
   "metadata": {},
   "outputs": [
    {
     "name": "stdout",
     "output_type": "stream",
     "text": [
      "field\n",
      "ocean-search-form-1\n",
      "s\n",
      "Insert search query\n",
      "<selenium.webdriver.chrome.webdriver.WebDriver (session=\"0c483f30addeca0c87d678d765638707\")>\n",
      "field\n",
      "ocean-mobile-search-2\n",
      "s\n",
      "Insert search query\n",
      "<selenium.webdriver.chrome.webdriver.WebDriver (session=\"0c483f30addeca0c87d678d765638707\")>\n"
     ]
    }
   ],
   "source": [
    "for element in anchor_elements:\n",
    "    \n",
    "    tag_name = element.tag_name\n",
    "    classs = element.get_attribute(\"class\")\n",
    "    print(classs)\n",
    "    id = element.get_attribute(\"id\")\n",
    "    print(id)\n",
    "    name = element.get_attribute(\"name\")\n",
    "    print(name)\n",
    "    \n",
    "    aria_label = element.get_attribute(\"aria-label\")\n",
    "    print(aria_label)\n",
    "    \n",
    "    xpath = f\"//{tag_name}[@class='{classs}' and @id='{id}' and @name='{name}' and @aria-label='{aria_label}']\"\n",
    "    driver.find_element(By.XPATH, xpath)\n",
    "    print(driver)\n"
   ]
  },
  {
   "cell_type": "code",
   "execution_count": 4,
   "id": "b45f7137",
   "metadata": {},
   "outputs": [
    {
     "name": "stdout",
     "output_type": "stream",
     "text": [
      "<input aria-label=\"Insert search query\" type=\"search\" id=\"ocean-search-form-1\" class=\"field\" autocomplete=\"off\" placeholder=\"Rechercher\" name=\"s\">\n",
      "<input aria-label=\"Insert search query\" value=\"\" class=\"field\" id=\"ocean-mobile-search-2\" type=\"search\" name=\"s\" autocomplete=\"off\" placeholder=\"Rechercher\">\n",
      "2\n",
      "2\n"
     ]
    }
   ],
   "source": [
    "\n",
    "\n",
    "driver.get(\"https://www.ip-label.fr/\")\n",
    "anchor_elements = driver.find_elements(By.CSS_SELECTOR, \"input[type='search']\")\n",
    "elements_set = set()\n",
    "def get_element_xpath(elements_set,element):\n",
    "    # Get the tag name of the element\n",
    "    tag_name = element.tag_name\n",
    "\n",
    "    # Get the attributes of the element\n",
    "    attributes = element.get_attribute(\"outerHTML\")\n",
    "    \n",
    "    print(attributes)\n",
    "    \n",
    "    data = element.get_attribute('data-value')\n",
    "\n",
    "    # Construct the XPath manually using the tag name and attributes\n",
    "    xpath = f\"//{tag_name}[{attributes}]\"\n",
    "    length = len(elements_set)\n",
    "    elements_set.add(xpath)\n",
    "\n",
    "    # Print the generated XPath\n",
    "    if length == len(elements_set) :\n",
    "        print(\"Generated XPath:\", xpath)\n",
    "\n",
    "for element in anchor_elements:\n",
    "    get_element_xpath(elements_set,element)\n",
    "    \n",
    "print(len(elements_set))\n",
    "print(len(anchor_elements))\n",
    "\n",
    "\n",
    "\n",
    "\n",
    "    \n",
    "    "
   ]
  },
  {
   "cell_type": "code",
   "execution_count": null,
   "id": "592b1707",
   "metadata": {},
   "outputs": [],
   "source": [
    "from selenium.webdriver.support.ui import WebDriverWait\n",
    "\n",
    "driver.get(\"https://www.ip-label.fr/\")\n",
    "driver.find_elements(By.CSS_SELECTOR, \"input[type='search']\")\n",
    "\n",
    "\n",
    "for i in range(5):\n",
    "    new_tab_handle = driver.window_handles[0]\n",
    "    driver.switch_to.window(new_tab_handle)\n",
    "    url=anchor_elements[i].get_attribute('href')\n",
    "    # Execute JavaScript to open a new tab.\n",
    "    script = f\"window.open('{url}', '_blank');\"\n",
    "    driver.execute_script(script)\n",
    "\n",
    "    # Switch to the new tab.\n",
    "    new_tab_handle = driver.window_handles[i+1]\n",
    "    driver.switch_to.window(new_tab_handle)\n",
    "    wait = WebDriverWait(driver, 2)\n",
    "\n",
    "    print(\"The new tab is now open.\")"
   ]
  },
  {
   "cell_type": "code",
   "execution_count": null,
   "id": "ef6a5a36",
   "metadata": {},
   "outputs": [],
   "source": [
    "def get_page_elements(driver,next=False,element=None):\n",
    "    # Extract all URLs and navigation data\n",
    "    anchor_elements = driver.find_elements(By.TAG_NAME, 'a')\n",
    "    all_elements = [{\"type\":\"button\",\"element\":element,\"next\":[]} for element in anchor_elements]\n",
    "    input_elements = driver.find_elements(By.CSS_SELECTOR, \"input[type='search']\")\n",
    "    all_elements.extend([{\"type\":\"input\",\"element\":element,\"next\":[]} for element in input_elements])\n",
    "    if next:\n",
    "            element[\"next\"].extend(anchor_elements)\n",
    "            element[\"next\"].extend(input_elements)\n",
    "    else :\n",
    "        return {\"page\" : driver.current_url, \"elements\": all_elements}\n",
    "    \n",
    "def add_element(driver,all_elements=[]):\n",
    "    all_elements.append(get_page_elements(driver))\n",
    "    for all_element in all_elements:\n",
    "        if all_element[\"page\"] == driver.current_url:\n",
    "            current_elements = all_element[\"elements\"]\n",
    "            break\n",
    "        else:\n",
    "            current_elements = []\n",
    "    for element in current_elements:\n",
    "        print(element)\n",
    "        if element[\"type\"] == \"button\":\n",
    "            current_url = driver.current_url\n",
    "            try:\n",
    "                print(current_url)\n",
    "                element[\"element\"].click()\n",
    "                new_url=driver.current_url\n",
    "                if new_url != current_url:\n",
    "                    test=False\n",
    "                    for element_exist in all_elements:\n",
    "                        if element_exist[\"page\"] == new_url:\n",
    "                            test=True\n",
    "                    if not test:\n",
    "                        get_page_elements(driver,True,element=element)\n",
    "                    else:\n",
    "                        for new_url_elements in all_elements:\n",
    "                            next_elements = new_url_elements[\"elements\"] if new_url_elements[\"page\"] == new_url else None\n",
    "                            for next_element in next_elements:\n",
    "                                element[\"next\"].append(next_element[\"element\"])\n",
    "            except ElementNotInteractableException:\n",
    "                print(\"Non clickable\")\n",
    "                \n",
    "        else:\n",
    "            text_to_write = \"Hello\"\n",
    "            element.send_keys(text_to_write)\n",
    "    return all_elements\n",
    "    \n",
    "    "
   ]
  },
  {
   "cell_type": "code",
   "execution_count": null,
   "id": "5fdda0c8",
   "metadata": {},
   "outputs": [],
   "source": [
    "def generate_scenarios(url):\n",
    "    driver.get(url)\n",
    "    list = add_element(driver)\n",
    "    print(list)\n",
    "    \n",
    "    \n"
   ]
  },
  {
   "cell_type": "code",
   "execution_count": null,
   "id": "a8018932",
   "metadata": {
    "scrolled": true
   },
   "outputs": [],
   "source": [
    "generate_scenarios(\"https://computer-database.gatling.io/computers?p=6\")"
   ]
  },
  {
   "cell_type": "code",
   "execution_count": null,
   "id": "e9d6b1a2",
   "metadata": {},
   "outputs": [],
   "source": []
  },
  {
   "cell_type": "code",
   "execution_count": null,
   "id": "08c77878",
   "metadata": {},
   "outputs": [],
   "source": []
  },
  {
   "cell_type": "code",
   "execution_count": null,
   "id": "e201c452",
   "metadata": {},
   "outputs": [],
   "source": []
  },
  {
   "cell_type": "code",
   "execution_count": null,
   "id": "4c8c457c",
   "metadata": {},
   "outputs": [],
   "source": []
  }
 ],
 "metadata": {
  "kernelspec": {
   "display_name": "Python 3 (ipykernel)",
   "language": "python",
   "name": "python3"
  },
  "language_info": {
   "codemirror_mode": {
    "name": "ipython",
    "version": 3
   },
   "file_extension": ".py",
   "mimetype": "text/x-python",
   "name": "python",
   "nbconvert_exporter": "python",
   "pygments_lexer": "ipython3",
   "version": "3.10.9"
  }
 },
 "nbformat": 4,
 "nbformat_minor": 5
}
